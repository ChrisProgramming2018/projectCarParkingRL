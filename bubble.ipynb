{
 "cells": [
  {
   "cell_type": "code",
   "execution_count": 3,
   "metadata": {},
   "outputs": [
    {
     "name": "stdout",
     "output_type": "stream",
     "text": [
      "load env ..\n",
      "load env completed\n",
      "policy\n",
      "compute_avg_return ... \n",
      " init buffer ... \n",
      "collected\n",
      "dataset\n",
      "train\n",
      "save\n",
      "root_dir /home/leiningc/project/data\n",
      "train_dir /home/leiningc/project/data/trainbubble\n",
      "End save para\n",
      "step = 21000: loss = 74198.46875\n",
      "save the agent\n",
      "step = 21000: Average Return = -189.89999389648438\n",
      "step = 22000: loss = 82865.6875\n",
      "save the agent\n",
      "step = 22000: Average Return = -196.1999969482422\n",
      "step = 23000: loss = 14106.4248046875\n",
      "save the agent\n",
      "step = 23000: Average Return = -192.6999969482422\n",
      "step = 24000: loss = 2565.498046875\n",
      "save the agent\n",
      "step = 24000: Average Return = -180.5\n",
      "step = 25000: loss = 3152.12646484375\n",
      "save the agent\n",
      "step = 25000: Average Return = -170.0\n",
      "step = 26000: loss = 774.3969116210938\n",
      "save the agent\n",
      "step = 26000: Average Return = -189.1999969482422\n",
      "step = 27000: loss = 13.934288024902344\n",
      "save the agent\n",
      "step = 27000: Average Return = -181.39999389648438\n",
      "step = 28000: loss = 1306.9122314453125\n",
      "save the agent\n",
      "step = 28000: Average Return = -200.39999389648438\n",
      "step = 29000: loss = 1898.8424072265625\n",
      "save the agent\n",
      "step = 29000: Average Return = -184.6999969482422\n",
      "step = 30000: loss = 1390.947998046875\n",
      "save the agent\n",
      "step = 30000: Average Return = -190.60000610351562\n",
      "step = 31000: loss = 1949.9228515625\n",
      "save the agent\n",
      "step = 31000: Average Return = -186.3000030517578\n",
      "step = 32000: loss = 1331.4267578125\n",
      "save the agent\n",
      "step = 32000: Average Return = -156.39999389648438\n",
      "step = 33000: loss = 1315.180908203125\n",
      "save the agent\n",
      "step = 33000: Average Return = -196.3000030517578\n",
      "step = 34000: loss = 2136.0341796875\n",
      "save the agent\n",
      "step = 34000: Average Return = -183.6999969482422\n",
      "step = 35000: loss = 2912.3466796875\n",
      "save the agent\n",
      "step = 35000: Average Return = -173.39999389648438\n",
      "step = 36000: loss = 1296.179443359375\n",
      "save the agent\n",
      "step = 36000: Average Return = -185.89999389648438\n",
      "step = 37000: loss = 696.2282104492188\n",
      "save the agent\n",
      "step = 37000: Average Return = -159.1999969482422\n",
      "step = 38000: loss = 632.4031372070312\n",
      "save the agent\n",
      "step = 38000: Average Return = -183.89999389648438\n",
      "step = 39000: loss = 1427.7100830078125\n",
      "save the agent\n",
      "step = 39000: Average Return = -170.39999389648438\n",
      "step = 40000: loss = 3190.908203125\n",
      "save the agent\n",
      "step = 40000: Average Return = -182.1999969482422\n",
      "step = 41000: loss = 1871.11572265625\n",
      "save the agent\n",
      "step = 41000: Average Return = -166.5\n",
      "step = 42000: loss = 1904.34375\n",
      "save the agent\n",
      "step = 42000: Average Return = -189.39999389648438\n",
      "step = 43000: loss = 786.8145751953125\n",
      "save the agent\n",
      "step = 43000: Average Return = -131.3000030517578\n",
      "step = 44000: loss = 1277.6690673828125\n",
      "save the agent\n",
      "step = 44000: Average Return = -192.10000610351562\n",
      "step = 45000: loss = 3141.953369140625\n",
      "save the agent\n",
      "step = 45000: Average Return = -187.0\n",
      "step = 46000: loss = 1946.789306640625\n",
      "save the agent\n",
      "step = 46000: Average Return = -199.39999389648438\n",
      "step = 47000: loss = 64.79296112060547\n",
      "save the agent\n",
      "step = 47000: Average Return = -172.0\n",
      "step = 48000: loss = 743.5849609375\n",
      "save the agent\n",
      "step = 48000: Average Return = -196.3000030517578\n",
      "step = 49000: loss = 1357.2254638671875\n",
      "save the agent\n",
      "step = 49000: Average Return = -173.10000610351562\n",
      "step = 50000: loss = 1442.955322265625\n",
      "save the agent\n",
      "step = 50000: Average Return = -154.1999969482422\n",
      "step = 51000: loss = 1294.928466796875\n",
      "save the agent\n",
      "step = 51000: Average Return = -194.39999389648438\n",
      "step = 52000: loss = 1375.0028076171875\n",
      "save the agent\n",
      "step = 52000: Average Return = -188.6999969482422\n",
      "step = 53000: loss = 693.1055297851562\n",
      "save the agent\n",
      "step = 53000: Average Return = -181.8000030517578\n",
      "step = 54000: loss = 1906.0733642578125\n",
      "save the agent\n",
      "step = 54000: Average Return = -200.8000030517578\n",
      "step = 55000: loss = 647.0155029296875\n",
      "save the agent\n",
      "step = 55000: Average Return = -186.0\n",
      "step = 56000: loss = 3057.834228515625\n",
      "save the agent\n",
      "step = 56000: Average Return = -174.10000610351562\n",
      "step = 57000: loss = 661.6190185546875\n",
      "save the agent\n",
      "step = 57000: Average Return = -205.60000610351562\n",
      "step = 58000: loss = 1278.0947265625\n",
      "save the agent\n",
      "step = 58000: Average Return = -188.1999969482422\n",
      "step = 59000: loss = 3653.525390625\n",
      "save the agent\n",
      "step = 59000: Average Return = -184.10000610351562\n",
      "step = 60000: loss = 3077.83056640625\n",
      "save the agent\n",
      "step = 60000: Average Return = -197.1999969482422\n",
      "step = 61000: loss = 618.033447265625\n",
      "save the agent\n",
      "step = 61000: Average Return = -173.10000610351562\n",
      "step = 62000: loss = 3075.860595703125\n",
      "save the agent\n",
      "step = 62000: Average Return = -190.89999389648438\n",
      "step = 63000: loss = 3096.990234375\n",
      "save the agent\n",
      "step = 63000: Average Return = -191.0\n",
      "step = 64000: loss = 1230.4686279296875\n",
      "save the agent\n",
      "step = 64000: Average Return = -168.1999969482422\n",
      "step = 65000: loss = 3612.257080078125\n",
      "save the agent\n",
      "step = 65000: Average Return = -176.39999389648438\n",
      "step = 66000: loss = 3361.78271484375\n",
      "save the agent\n",
      "step = 66000: Average Return = -160.3000030517578\n",
      "step = 67000: loss = 1846.431396484375\n",
      "save the agent\n",
      "step = 67000: Average Return = -193.1999969482422\n",
      "step = 68000: loss = 1216.03515625\n",
      "save the agent\n",
      "step = 68000: Average Return = -161.6999969482422\n",
      "step = 69000: loss = 3596.424072265625\n",
      "save the agent\n",
      "step = 69000: Average Return = -189.0\n",
      "step = 70000: loss = 1825.204345703125\n",
      "save the agent\n",
      "step = 70000: Average Return = -178.39999389648438\n",
      "step = 71000: loss = 1823.23828125\n",
      "save the agent\n",
      "step = 71000: Average Return = -183.3000030517578\n",
      "step = 72000: loss = 1774.106201171875\n",
      "save the agent\n",
      "step = 72000: Average Return = -163.8000030517578\n",
      "step = 73000: loss = 636.8378295898438\n",
      "save the agent\n",
      "step = 73000: Average Return = -188.8000030517578\n",
      "step = 74000: loss = 1227.542724609375\n",
      "save the agent\n",
      "step = 74000: Average Return = -188.60000610351562\n",
      "step = 75000: loss = 1220.57275390625\n",
      "save the agent\n",
      "step = 75000: Average Return = -170.1999969482422\n",
      "step = 76000: loss = 641.0701293945312\n",
      "save the agent\n",
      "step = 76000: Average Return = -182.5\n",
      "step = 77000: loss = 662.8070678710938\n",
      "save the agent\n",
      "step = 77000: Average Return = -148.6999969482422\n",
      "step = 78000: loss = 665.656494140625\n",
      "save the agent\n",
      "step = 78000: Average Return = -179.10000610351562\n",
      "step = 79000: loss = 1254.9312744140625\n",
      "save the agent\n",
      "step = 79000: Average Return = -175.60000610351562\n",
      "step = 80000: loss = 1815.4095458984375\n",
      "save the agent\n",
      "step = 80000: Average Return = -183.10000610351562\n",
      "step = 81000: loss = 1200.1300048828125\n",
      "save the agent\n",
      "step = 81000: Average Return = -171.6999969482422\n",
      "step = 82000: loss = 1802.51611328125\n",
      "save the agent\n",
      "step = 82000: Average Return = -192.10000610351562\n",
      "step = 83000: loss = 1271.0048828125\n",
      "save the agent\n",
      "step = 83000: Average Return = -174.8000030517578\n",
      "step = 84000: loss = 1333.668701171875\n",
      "save the agent\n",
      "step = 84000: Average Return = -194.1999969482422\n",
      "step = 85000: loss = 621.9180908203125\n",
      "save the agent\n",
      "step = 85000: Average Return = -164.39999389648438\n",
      "step = 86000: loss = 23.30133056640625\n",
      "save the agent\n",
      "step = 86000: Average Return = -186.39999389648438\n",
      "step = 87000: loss = 660.272705078125\n",
      "save the agent\n",
      "step = 87000: Average Return = -190.39999389648438\n",
      "step = 88000: loss = 2926.9150390625\n",
      "save the agent\n",
      "step = 88000: Average Return = -169.0\n",
      "step = 89000: loss = 1841.765625\n",
      "save the agent\n",
      "step = 89000: Average Return = -172.6999969482422\n",
      "step = 90000: loss = 1853.0928955078125\n",
      "save the agent\n",
      "step = 90000: Average Return = -184.8000030517578\n",
      "step = 91000: loss = 641.6856079101562\n",
      "save the agent\n",
      "step = 91000: Average Return = -172.5\n",
      "step = 92000: loss = 1265.3763427734375\n",
      "save the agent\n",
      "step = 92000: Average Return = -194.6999969482422\n",
      "step = 93000: loss = 611.805908203125\n",
      "save the agent\n",
      "step = 93000: Average Return = -172.60000610351562\n",
      "step = 94000: loss = 2909.11279296875\n",
      "save the agent\n",
      "step = 94000: Average Return = -191.0\n",
      "step = 95000: loss = 1268.2669677734375\n",
      "save the agent\n",
      "step = 95000: Average Return = -185.1999969482422\n",
      "step = 96000: loss = 1817.4793701171875\n",
      "save the agent\n",
      "step = 96000: Average Return = -164.10000610351562\n",
      "step = 97000: loss = 1773.578125\n",
      "save the agent\n",
      "step = 97000: Average Return = -180.39999389648438\n",
      "step = 98000: loss = 596.5491943359375\n",
      "save the agent\n",
      "step = 98000: Average Return = -189.5\n",
      "step = 99000: loss = 1317.467529296875\n",
      "save the agent\n",
      "step = 99000: Average Return = -146.0\n"
     ]
    },
    {
     "name": "stdout",
     "output_type": "stream",
     "text": [
      "step = 100000: loss = 4063.693603515625\n",
      "save the agent\n",
      "step = 100000: Average Return = -167.3000030517578\n",
      "step = 101000: loss = 1742.9202880859375\n",
      "save the agent\n",
      "step = 101000: Average Return = -145.39999389648438\n",
      "step = 102000: loss = 2898.53466796875\n",
      "save the agent\n",
      "step = 102000: Average Return = -147.0\n",
      "step = 103000: loss = 1208.40771484375\n",
      "save the agent\n",
      "step = 103000: Average Return = -146.89999389648438\n",
      "step = 104000: loss = 1839.374267578125\n",
      "save the agent\n",
      "step = 104000: Average Return = -195.5\n",
      "step = 105000: loss = 1219.9755859375\n",
      "save the agent\n",
      "step = 105000: Average Return = -196.6999969482422\n",
      "step = 106000: loss = 1223.619140625\n",
      "save the agent\n",
      "step = 106000: Average Return = -158.1999969482422\n",
      "step = 107000: loss = 2963.131591796875\n",
      "save the agent\n",
      "step = 107000: Average Return = -193.39999389648438\n",
      "step = 108000: loss = 2211.13525390625\n",
      "save the agent\n",
      "step = 108000: Average Return = -182.1999969482422\n",
      "step = 109000: loss = 1229.3485107421875\n",
      "save the agent\n",
      "step = 109000: Average Return = -185.6999969482422\n",
      "step = 110000: loss = 1276.3681640625\n",
      "save the agent\n",
      "step = 110000: Average Return = -187.8000030517578\n",
      "step = 111000: loss = 2286.247802734375\n",
      "save the agent\n",
      "step = 111000: Average Return = -188.39999389648438\n",
      "step = 112000: loss = 3215.3369140625\n",
      "save the agent\n",
      "step = 112000: Average Return = -124.0\n",
      "step = 113000: loss = 1207.134033203125\n",
      "save the agent\n",
      "step = 113000: Average Return = -195.8000030517578\n",
      "step = 114000: loss = 1167.513916015625\n",
      "save the agent\n",
      "step = 114000: Average Return = -186.39999389648438\n",
      "step = 115000: loss = 1204.861083984375\n",
      "save the agent\n",
      "step = 115000: Average Return = -181.8000030517578\n",
      "step = 116000: loss = 1738.0125732421875\n",
      "save the agent\n",
      "step = 116000: Average Return = -183.89999389648438\n",
      "step = 117000: loss = 1694.32763671875\n",
      "save the agent\n",
      "step = 117000: Average Return = -188.89999389648438\n",
      "step = 118000: loss = 2359.026611328125\n",
      "save the agent\n",
      "step = 118000: Average Return = -191.39999389648438\n",
      "step = 119000: loss = 1181.234619140625\n",
      "save the agent\n",
      "step = 119000: Average Return = -180.39999389648438\n",
      "step = 120000: loss = 1451.62890625\n",
      "save the agent\n",
      "step = 120000: Average Return = -167.89999389648438\n",
      "step = 121000: loss = 1168.282470703125\n",
      "save the agent\n",
      "step = 121000: Average Return = -160.89999389648438\n",
      "step = 122000: loss = 2887.0673828125\n",
      "save the agent\n",
      "step = 122000: Average Return = -153.39999389648438\n",
      "step = 123000: loss = 609.9351196289062\n",
      "save the agent\n",
      "step = 123000: Average Return = -145.89999389648438\n",
      "step = 124000: loss = 1832.0960693359375\n",
      "save the agent\n",
      "step = 124000: Average Return = -153.5\n",
      "step = 125000: loss = 2251.965576171875\n",
      "save the agent\n",
      "step = 125000: Average Return = -130.10000610351562\n",
      "step = 126000: loss = 616.5264282226562\n",
      "save the agent\n",
      "step = 126000: Average Return = -192.60000610351562\n",
      "step = 127000: loss = 1180.9217529296875\n",
      "save the agent\n",
      "step = 127000: Average Return = -165.10000610351562\n",
      "step = 128000: loss = 60.841835021972656\n",
      "save the agent\n",
      "step = 128000: Average Return = -162.5\n",
      "step = 129000: loss = 1871.6533203125\n",
      "save the agent\n",
      "step = 129000: Average Return = -126.5\n",
      "step = 130000: loss = 1679.715087890625\n",
      "save the agent\n",
      "step = 130000: Average Return = -203.89999389648438\n",
      "step = 131000: loss = 1190.3424072265625\n",
      "save the agent\n",
      "step = 131000: Average Return = -173.89999389648438\n",
      "step = 132000: loss = 1752.02734375\n",
      "save the agent\n",
      "step = 132000: Average Return = -199.39999389648438\n",
      "step = 133000: loss = 2251.86474609375\n",
      "save the agent\n",
      "step = 133000: Average Return = -163.5\n",
      "step = 134000: loss = 3367.793212890625\n",
      "save the agent\n",
      "step = 134000: Average Return = -195.3000030517578\n",
      "step = 135000: loss = 643.7711791992188\n",
      "save the agent\n",
      "step = 135000: Average Return = -184.39999389648438\n",
      "step = 136000: loss = 2780.6259765625\n",
      "save the agent\n",
      "step = 136000: Average Return = -182.1999969482422\n",
      "step = 137000: loss = 1708.72705078125\n",
      "save the agent\n",
      "step = 137000: Average Return = -94.5\n",
      "step = 138000: loss = 1153.0577392578125\n",
      "save the agent\n",
      "step = 138000: Average Return = -176.89999389648438\n",
      "step = 139000: loss = 1135.4072265625\n",
      "save the agent\n",
      "step = 139000: Average Return = -121.80000305175781\n",
      "step = 140000: loss = 582.7967529296875\n",
      "save the agent\n",
      "step = 140000: Average Return = -88.9000015258789\n",
      "step = 141000: loss = 1159.809814453125\n",
      "save the agent\n",
      "step = 141000: Average Return = -200.0\n",
      "step = 142000: loss = 587.2521362304688\n",
      "save the agent\n",
      "step = 142000: Average Return = -194.8000030517578\n",
      "step = 143000: loss = 1654.357421875\n",
      "save the agent\n",
      "step = 143000: Average Return = -174.1999969482422\n",
      "step = 144000: loss = 2788.46826171875\n",
      "save the agent\n",
      "step = 144000: Average Return = -195.6999969482422\n",
      "step = 145000: loss = 1709.9168701171875\n",
      "save the agent\n",
      "step = 145000: Average Return = -199.60000610351562\n",
      "step = 146000: loss = 1213.328369140625\n",
      "save the agent\n",
      "step = 146000: Average Return = -188.1999969482422\n",
      "step = 147000: loss = 2205.86865234375\n",
      "save the agent\n",
      "step = 147000: Average Return = -193.39999389648438\n",
      "step = 148000: loss = 1128.1260986328125\n",
      "save the agent\n",
      "step = 148000: Average Return = -180.8000030517578\n",
      "step = 149000: loss = 1177.5147705078125\n",
      "save the agent\n",
      "step = 149000: Average Return = -198.5\n",
      "step = 150000: loss = 2811.66064453125\n",
      "save the agent\n",
      "step = 150000: Average Return = -190.3000030517578\n",
      "step = 151000: loss = 576.5965576171875\n",
      "save the agent\n",
      "step = 151000: Average Return = -185.0\n",
      "step = 152000: loss = 1677.620361328125\n",
      "save the agent\n",
      "step = 152000: Average Return = -191.89999389648438\n",
      "step = 153000: loss = 1716.45849609375\n",
      "save the agent\n",
      "step = 153000: Average Return = -203.39999389648438\n",
      "step = 154000: loss = 604.2256469726562\n",
      "save the agent\n",
      "step = 154000: Average Return = -192.39999389648438\n",
      "step = 155000: loss = 1654.28515625\n",
      "save the agent\n",
      "step = 155000: Average Return = -208.5\n",
      "step = 156000: loss = 1098.2811279296875\n",
      "save the agent\n",
      "step = 156000: Average Return = -176.3000030517578\n",
      "step = 157000: loss = 2761.5498046875\n",
      "save the agent\n",
      "step = 157000: Average Return = -186.39999389648438\n",
      "step = 158000: loss = 2813.177490234375\n",
      "save the agent\n",
      "step = 158000: Average Return = -165.60000610351562\n",
      "step = 159000: loss = 1181.464599609375\n",
      "save the agent\n",
      "step = 159000: Average Return = -184.3000030517578\n",
      "step = 160000: loss = 1682.251953125\n",
      "save the agent\n",
      "step = 160000: Average Return = -194.10000610351562\n",
      "step = 161000: loss = 3819.61865234375\n",
      "save the agent\n",
      "step = 161000: Average Return = -208.1999969482422\n",
      "step = 162000: loss = 1156.26806640625\n",
      "save the agent\n",
      "step = 162000: Average Return = -209.60000610351562\n",
      "step = 163000: loss = 1619.1519775390625\n",
      "save the agent\n",
      "step = 163000: Average Return = -192.5\n",
      "step = 164000: loss = 2766.16064453125\n",
      "save the agent\n",
      "step = 164000: Average Return = -180.89999389648438\n",
      "step = 165000: loss = 1617.3270263671875\n",
      "save the agent\n",
      "step = 165000: Average Return = -198.1999969482422\n",
      "step = 166000: loss = 2266.246337890625\n",
      "save the agent\n",
      "step = 166000: Average Return = -194.60000610351562\n",
      "step = 167000: loss = 1619.1805419921875\n",
      "save the agent\n",
      "step = 167000: Average Return = -176.10000610351562\n",
      "step = 168000: loss = 600.2855224609375\n",
      "save the agent\n",
      "step = 168000: Average Return = -197.6999969482422\n",
      "step = 169000: loss = 3259.0771484375\n",
      "save the agent\n",
      "step = 169000: Average Return = -202.89999389648438\n",
      "step = 170000: loss = 16.23711585998535\n",
      "save the agent\n",
      "step = 170000: Average Return = -200.60000610351562\n",
      "step = 171000: loss = 2658.447265625\n",
      "save the agent\n",
      "step = 171000: Average Return = -198.8000030517578\n",
      "step = 172000: loss = 581.5179443359375\n",
      "save the agent\n",
      "step = 172000: Average Return = -205.5\n",
      "step = 173000: loss = 2181.7724609375\n",
      "save the agent\n",
      "step = 173000: Average Return = -182.39999389648438\n",
      "step = 174000: loss = 2647.5673828125\n",
      "save the agent\n",
      "step = 174000: Average Return = -198.0\n",
      "step = 175000: loss = 3738.447998046875\n",
      "save the agent\n",
      "step = 175000: Average Return = -202.5\n",
      "step = 176000: loss = 595.0115966796875\n",
      "save the agent\n",
      "step = 176000: Average Return = -204.0\n",
      "step = 177000: loss = 4223.82177734375\n",
      "save the agent\n",
      "step = 177000: Average Return = -174.39999389648438\n",
      "step = 178000: loss = 1599.4146728515625\n",
      "save the agent\n",
      "step = 178000: Average Return = -196.60000610351562\n",
      "step = 179000: loss = 3703.27294921875\n",
      "save the agent\n"
     ]
    },
    {
     "name": "stdout",
     "output_type": "stream",
     "text": [
      "step = 179000: Average Return = -178.1999969482422\n",
      "step = 180000: loss = 3193.283203125\n",
      "save the agent\n",
      "step = 180000: Average Return = -146.8000030517578\n",
      "step = 181000: loss = 1158.21435546875\n",
      "save the agent\n",
      "step = 181000: Average Return = -197.60000610351562\n",
      "step = 182000: loss = 593.4240112304688\n",
      "save the agent\n",
      "step = 182000: Average Return = -196.8000030517578\n",
      "step = 183000: loss = 1617.49072265625\n",
      "save the agent\n",
      "step = 183000: Average Return = -174.3000030517578\n",
      "step = 184000: loss = 2111.273681640625\n",
      "save the agent\n",
      "step = 184000: Average Return = -192.89999389648438\n",
      "step = 185000: loss = 1603.5963134765625\n",
      "save the agent\n",
      "step = 185000: Average Return = -178.89999389648438\n",
      "step = 186000: loss = 2616.990966796875\n",
      "save the agent\n",
      "step = 186000: Average Return = -184.10000610351562\n",
      "step = 187000: loss = 1051.292236328125\n",
      "save the agent\n",
      "step = 187000: Average Return = -196.10000610351562\n",
      "step = 188000: loss = 2140.5146484375\n",
      "save the agent\n",
      "step = 188000: Average Return = -166.10000610351562\n",
      "step = 189000: loss = 2763.5537109375\n",
      "save the agent\n",
      "step = 189000: Average Return = -198.0\n",
      "step = 190000: loss = 577.8131713867188\n",
      "save the agent\n",
      "step = 190000: Average Return = -204.8000030517578\n",
      "step = 191000: loss = 3314.392333984375\n",
      "save the agent\n",
      "step = 191000: Average Return = -193.89999389648438\n",
      "step = 192000: loss = 2132.5126953125\n",
      "save the agent\n",
      "step = 192000: Average Return = -202.0\n",
      "step = 193000: loss = 4751.9775390625\n",
      "save the agent\n",
      "step = 193000: Average Return = -193.39999389648438\n",
      "step = 194000: loss = 2619.82958984375\n",
      "save the agent\n",
      "step = 194000: Average Return = -187.39999389648438\n",
      "step = 195000: loss = 1614.53466796875\n",
      "save the agent\n",
      "step = 195000: Average Return = -189.89999389648438\n",
      "step = 196000: loss = 1611.421875\n",
      "save the agent\n",
      "step = 196000: Average Return = -197.6999969482422\n",
      "step = 197000: loss = 2097.031005859375\n",
      "save the agent\n",
      "step = 197000: Average Return = -190.0\n",
      "step = 198000: loss = 1681.9605712890625\n",
      "save the agent\n",
      "step = 198000: Average Return = -178.5\n",
      "step = 199000: loss = 1579.44677734375\n",
      "save the agent\n",
      "step = 199000: Average Return = -199.1999969482422\n",
      "step = 200000: loss = 2102.59375\n",
      "save the agent\n",
      "step = 200000: Average Return = -195.60000610351562\n",
      "step = 201000: loss = 1563.995361328125\n",
      "save the agent\n",
      "step = 201000: Average Return = -199.5\n",
      "step = 202000: loss = 2595.6982421875\n",
      "save the agent\n",
      "step = 202000: Average Return = -181.60000610351562\n",
      "step = 203000: loss = 1068.2021484375\n",
      "save the agent\n",
      "step = 203000: Average Return = -154.39999389648438\n",
      "step = 204000: loss = 2081.652587890625\n",
      "save the agent\n",
      "step = 204000: Average Return = -180.6999969482422\n",
      "step = 205000: loss = 1131.6534423828125\n",
      "save the agent\n",
      "step = 205000: Average Return = -128.39999389648438\n",
      "step = 206000: loss = 549.23095703125\n",
      "save the agent\n",
      "step = 206000: Average Return = -169.89999389648438\n",
      "step = 207000: loss = 2097.79052734375\n",
      "save the agent\n",
      "step = 207000: Average Return = -108.9000015258789\n",
      "step = 208000: loss = 2085.014892578125\n",
      "save the agent\n",
      "step = 208000: Average Return = -172.89999389648438\n",
      "step = 209000: loss = 1034.1900634765625\n",
      "save the agent\n",
      "step = 209000: Average Return = -202.0\n",
      "step = 210000: loss = 3124.45166015625\n",
      "save the agent\n",
      "step = 210000: Average Return = -206.10000610351562\n",
      "step = 211000: loss = 2037.70703125\n",
      "save the agent\n",
      "step = 211000: Average Return = -176.0\n",
      "step = 212000: loss = 2560.85009765625\n",
      "save the agent\n",
      "step = 212000: Average Return = -186.3000030517578\n",
      "step = 213000: loss = 1529.774658203125\n",
      "save the agent\n",
      "step = 213000: Average Return = -204.89999389648438\n",
      "step = 214000: loss = 3614.03759765625\n",
      "save the agent\n",
      "step = 214000: Average Return = -186.8000030517578\n",
      "step = 215000: loss = 542.82177734375\n",
      "save the agent\n",
      "step = 215000: Average Return = -191.5\n",
      "step = 216000: loss = 2569.40234375\n",
      "save the agent\n",
      "step = 216000: Average Return = -185.39999389648438\n",
      "step = 217000: loss = 1048.4884033203125\n",
      "save the agent\n",
      "step = 217000: Average Return = -201.8000030517578\n",
      "step = 218000: loss = 1549.033203125\n",
      "save the agent\n",
      "step = 218000: Average Return = -190.10000610351562\n",
      "step = 219000: loss = 1040.922607421875\n",
      "save the agent\n",
      "step = 219000: Average Return = -187.0\n",
      "step = 220000: loss = 2024.9619140625\n",
      "save the agent\n",
      "step = 220000: Average Return = -194.1999969482422\n"
     ]
    },
    {
     "data": {
      "image/png": "[encoded data removed]",
      "text/plain": [
       "<Figure size 432x288 with 1 Axes>"
      ]
     },
     "metadata": {
      "needs_background": "light"
     },
     "output_type": "display_data"
    }
   ],
   "source": [
    "from __future__ import absolute_import\n",
    "from __future__ import division\n",
    "from __future__ import print_function\n",
    "import sys\n",
    "import base64\n",
    "import imageio\n",
    "import IPython\n",
    "import matplotlib\n",
    "import matplotlib.pyplot as plt\n",
    "import PIL.Image\n",
    "import os\n",
    "import tensorflow as tf\n",
    "import gym_bubbleshooter\n",
    "from tf_agents.agents.dqn import dqn_agent\n",
    "from tf_agents.drivers import dynamic_step_driver\n",
    "from tf_agents.environments import suite_gym\n",
    "from tf_agents.environments import tf_py_environment\n",
    "from tf_agents.eval import metric_utils\n",
    "from tf_agents.metrics import tf_metrics\n",
    "from tf_agents.networks import q_network\n",
    "from tf_agents.policies import random_tf_policy\n",
    "from tf_agents.replay_buffers import tf_uniform_replay_buffer\n",
    "from tf_agents.trajectories import trajectory\n",
    "from tf_agents.utils import common\n",
    "from tf_agents.metrics import py_metrics\n",
    "from absl import flags\n",
    "tf.compat.v1.enable_v2_behavior()\n",
    "print(\"load env ..\")\n",
    "\n",
    "env_name =(\"BubbleShooter-v0\")\n",
    "\n",
    "print(\"load env completed\")\n",
    "\n",
    "num_iterations = 200000  # @param\n",
    "\n",
    "initial_collect_steps = 1000  # @param\n",
    "collect_steps_per_iteration = 1  # @param\n",
    "replay_buffer_capacity = 100000  # @param\n",
    "\n",
    "fc_layer_params = (100,)\n",
    "\n",
    "batch_size = 64  # @param\n",
    "learning_rate = 1e-3  # @param\n",
    "log_interval = 200  # @param\n",
    "\n",
    "num_eval_episodes = 10  # @param\n",
    "eval_interval = 1000  # @param\n",
    "\n",
    "\n",
    "\n",
    "env = suite_gym.load(env_name, discount=0.99, max_episode_steps=1000)\n",
    "\n",
    "env.reset()\n",
    "\n",
    "#print('Observation Spec:')\n",
    "#print(env.time_step_spec().observation)\n",
    "#print('Action Spec:')\n",
    "#print(env.action_spec())\n",
    "\n",
    "time_step = env.reset()\n",
    "#print('Time step:')\n",
    "#print(time_step)\n",
    "\n",
    "action = 1\n",
    "\n",
    "next_time_step = env.step(action)\n",
    "#print('Next time step:')\n",
    "#print(next_time_step)\n",
    "train_py_env = suite_gym.load(env_name, discount=0.99, max_episode_steps=1000)\n",
    "eval_py_env = suite_gym.load(env_name, discount=0.99, max_episode_steps=1000)\n",
    "\n",
    "train_env = tf_py_environment.TFPyEnvironment(train_py_env)\n",
    "eval_env = tf_py_environment.TFPyEnvironment(eval_py_env)\n",
    "\n",
    "\n",
    "\n",
    "train_env.reset()\n",
    "#print('Observation Spec:')\n",
    "#print(train_env.time_step_spec().observation)\n",
    "#print('board:')\n",
    "#print(\"env\")\n",
    "#print(eval_env.reset())\n",
    "#print('end')\n",
    "\n",
    "\n",
    "\n",
    "q_net = q_network.QNetwork(\n",
    "        train_env.observation_spec(),\n",
    "        train_env.action_spec(),\n",
    "        fc_layer_params=fc_layer_params)\n",
    "\n",
    "\n",
    "\n",
    "optimizer = tf.compat.v1.train.AdamOptimizer(learning_rate=learning_rate)\n",
    "\n",
    "train_step_counter = tf.compat.v2.Variable(0)\n",
    "\n",
    "tf_agent = dqn_agent.DqnAgent(\n",
    "        train_env.time_step_spec(),\n",
    "        train_env.action_spec(),\n",
    "        q_network=q_net,\n",
    "        optimizer=optimizer,\n",
    "        td_errors_loss_fn=dqn_agent.element_wise_squared_loss,\n",
    "        train_step_counter=train_step_counter)\n",
    "\n",
    "tf_agent.initialize()\n",
    "\n",
    "eval_policy = tf_agent.policy\n",
    "collect_policy = tf_agent.collect_policy\n",
    "random_policy = random_tf_policy.RandomTFPolicy(train_env.time_step_spec(), train_env.action_spec())\n",
    "print(\"policy\")\n",
    "\n",
    "def compute_avg_return(environment, policy, num_episodes=10):\n",
    "    total_return = 0.0\n",
    "    for _ in range(num_episodes):\n",
    "        time_step = environment.reset()\n",
    "        episode_return = 0.0\n",
    "        while not time_step.is_last():\n",
    "            action_step = policy.action(time_step)\n",
    "            time_step = environment.step(action_step.action)\n",
    "            episode_return += time_step.reward\n",
    "        total_return += episode_return\n",
    "    avg_return = total_return / num_episodes\n",
    "    return avg_return.numpy()[0]\n",
    "\n",
    "print(\"compute_avg_return ... \")\n",
    "compute_avg_return(eval_env, random_policy, num_eval_episodes)\n",
    "#compute_avg_return(eval_env, random_policy)\n",
    "\n",
    "\n",
    "\n",
    "\n",
    "replay_buffer = tf_uniform_replay_buffer.TFUniformReplayBuffer(\n",
    "        data_spec=tf_agent.collect_data_spec, \n",
    "        batch_size=train_env.batch_size,\n",
    "        max_length=replay_buffer_capacity)\n",
    "\n",
    "print(\" init buffer ... \")\n",
    "def collect_step(environment, policy):\n",
    "    time_step = environment.current_time_step()\n",
    "    action_step = policy.action(time_step)\n",
    "    next_time_step = environment.step(action_step.action)\n",
    "    traj = trajectory.from_transition(time_step, action_step, next_time_step)\n",
    "    # Add trajectory to the replay buffer\n",
    "    replay_buffer.add_batch(traj)\n",
    "\n",
    "for _ in range(initial_collect_steps):\n",
    "    collect_step(train_env, random_policy)\n",
    "print(\"collected\")\n",
    "dataset = replay_buffer.as_dataset(\n",
    "        num_parallel_calls=3, sample_batch_size=batch_size,\n",
    "        num_steps=2).prefetch(3)\n",
    "\n",
    "print(\"dataset\")\n",
    "iterator = iter(dataset)\n",
    "\n",
    "print(\"train\")\n",
    "# (Optional) Optimize by wrapping some of the code in a graph using TF function.\n",
    "tf_agent.train = common.function(tf_agent.train)\n",
    "\n",
    "# Reset the train step\n",
    "tf_agent.train_step_counter.assign(0)\n",
    "\n",
    "\n",
    "# Evaluate the agent's policy once before training.\n",
    "avg_return = compute_avg_return(eval_env, tf_agent.policy, num_eval_episodes)\n",
    "returns = [avg_return]\n",
    "\n",
    "\n",
    "print(\"save\")\n",
    "\n",
    "#flags.DEFINE_string('root_dir', os.getenv('TEST_UNDECLARED_OUTPUTS_DIR'), 'Root directory for writing logs/summaries/checkpoints.')\n",
    "#flags.DEFINE_integer('num_iterations', 100000, 'Total number train/eval iterations to perform.')\n",
    "#flags.DEFINE_bool('use_ddqn', False, 'If True uses the DdqnAgent instead of the DqnAgent.')\n",
    "#flags.mark_flag_as_required('root_dir')\n",
    "\n",
    "train_checkpoint_interval=10000\n",
    "policy_checkpoint_interval=5000\n",
    "rb_checkpoint_interval=2000\n",
    "log_interval=1000\n",
    "summary_interval=1000\n",
    "summaries_flush_secs=10\n",
    "agent_class=dqn_agent.DqnAgent\n",
    "debug_summaries=False\n",
    "summarize_grads_and_vars=False\n",
    "\n",
    "#FLAGS = flags.FLAGS\n",
    "#root_dir = FLAGS.root_dir\n",
    "root_dir = \"/home/leiningc/project/data\"\n",
    "root_dir = os.path.expanduser(root_dir)\n",
    "train_dir = os.path.join(root_dir, 'trainbubble')\n",
    "eval_dir = os.path.join(root_dir, 'eval')\n",
    "print(\"root_dir\", root_dir)\n",
    "print(\"train_dir\", train_dir)\n",
    "\n",
    "\n",
    "train_metrics = [\n",
    "        tf_metrics.NumberOfEpisodes(),\n",
    "        tf_metrics.EnvironmentSteps(),\n",
    "        tf_metrics.AverageReturnMetric(),\n",
    "        tf_metrics.AverageEpisodeLengthMetric(),\n",
    "        ]\n",
    "\n",
    "global_step = tf.compat.v1.train.get_or_create_global_step()\n",
    "\n",
    "#train_summary_writer = tf.compat.v2.summary.create_file_writer(train_dir, flush_millis=summaries_flush_secs * 1000)\n",
    "#train_summary_writer.set_as_default()\n",
    "train_checkpointer = common.Checkpointer(\n",
    "        ckpt_dir=train_dir,\n",
    "        agent=tf_agent,\n",
    "        global_step=global_step,\n",
    "        metrics=metric_utils.MetricsGroup(train_metrics,\n",
    "            'train_metrics'))\n",
    "\n",
    "\n",
    "\n",
    "print(\"End save para\")\n",
    "\n",
    "\n",
    "\n",
    "\n",
    "\n",
    "\n",
    "\n",
    "for _ in range(num_iterations):\n",
    "   \n",
    "    # Collect a few steps using collect_policy and save to the replay buffer.\n",
    "    for _ in range(collect_steps_per_iteration):\n",
    "        collect_step(train_env, tf_agent.collect_policy)\n",
    "        \n",
    "    # Sample a batch of data from the buffer and update the\n",
    "    # agent's network.\n",
    "    experience, unused_info = next(iterator)\n",
    "    train_loss = tf_agent.train(experience)\n",
    "    step = tf_agent.train_step_counter.numpy()\n",
    "    if step % log_interval == 0:\n",
    "        print('step = {0}: loss = {1}'.format(step, train_loss.loss))\n",
    "    \n",
    "    if step % eval_interval == 0:\n",
    "        print(\"save the agent\")\n",
    "        train_checkpointer.save(global_step=step)\n",
    "\n",
    "    if step % eval_interval == 0:\n",
    "        avg_return = compute_avg_return(eval_env, tf_agent.policy, num_eval_episodes)\n",
    "        print('step = {0}: Average Return = {1}'.format(step, avg_return))\n",
    "        returns.append(avg_return)\n",
    "\n",
    "steps = range(0, num_iterations + 1, eval_interval)\n",
    "plt.plot(steps, returns)\n",
    "plt.ylabel('Average Return')\n",
    "plt.xlabel('Step')\n",
    "plt.ylim(top=250)\n",
    "plt.show()"
   ]
  },
  {
   "cell_type": "code",
   "execution_count": null,
   "metadata": {},
   "outputs": [],
   "source": [
    "pwd"
   ]
  },
  {
   "cell_type": "code",
   "execution_count": 16,
   "metadata": {},
   "outputs": [
    {
     "data": {
      "text/plain": [
       "['',\n",
       " '/home/leiningc/anaconda3/envs/sim/lib/python35.zip',\n",
       " '/home/leiningc/anaconda3/envs/sim/lib/python3.5',\n",
       " '/home/leiningc/anaconda3/envs/sim/lib/python3.5/plat-linux',\n",
       " '/home/leiningc/anaconda3/envs/sim/lib/python3.5/lib-dynload',\n",
       " '/home/leiningc/anaconda3/envs/sim/lib/python3.5/site-packages',\n",
       " '/home/leiningc/anaconda3/envs/sim/lib/python3.5/site-packages/IPython/extensions',\n",
       " '/home/leiningc/.ipython',\n",
       " '/home/leiningc/project/gym_env/gym-bubbleshooter']"
      ]
     },
     "execution_count": 16,
     "metadata": {},
     "output_type": "execute_result"
    }
   ],
   "source": [
    "import sys\n",
    "sys.path"
   ]
  },
  {
   "cell_type": "code",
   "execution_count": 1,
   "metadata": {},
   "outputs": [
    {
     "name": "stdout",
     "output_type": "stream",
     "text": [
      "load env ..\n",
      "load env completed\n"
     ]
    }
   ],
   "source": [
    "from __future__ import absolute_import\n",
    "from __future__ import division\n",
    "from __future__ import print_function\n",
    "import sys\n",
    "import base64\n",
    "import imageio\n",
    "import IPython\n",
    "import matplotlib\n",
    "import matplotlib.pyplot as plt\n",
    "import PIL.Image\n",
    "import tensorflow as tf\n",
    "import gym_bubbleshooter\n",
    "from tf_agents.agents.dqn import dqn_agent\n",
    "from tf_agents.drivers import dynamic_step_driver\n",
    "from tf_agents.environments import suite_gym\n",
    "from tf_agents.environments import tf_py_environment\n",
    "from tf_agents.eval import metric_utils\n",
    "from tf_agents.metrics import tf_metrics\n",
    "from tf_agents.networks import q_network\n",
    "from tf_agents.policies import random_tf_policy\n",
    "from tf_agents.replay_buffers import tf_uniform_replay_buffer\n",
    "from tf_agents.trajectories import trajectory\n",
    "from tf_agents.utils import common\n",
    "tf.compat.v1.enable_v2_behavior()\n",
    "print(\"load env ..\")\n",
    "env_cart = 'CartPole-v0'  # @param\n",
    "env_name =(\"BubbleShooter-v0\")\n",
    "num_iterations = 8000  # @param\n",
    "print(\"load env completed\")"
   ]
  },
  {
   "cell_type": "code",
   "execution_count": 5,
   "metadata": {},
   "outputs": [],
   "source": [
    "initial_collect_steps = 1000  # @param\n",
    "collect_steps_per_iteration = 1  # @param\n",
    "replay_buffer_capacity = 100000  # @param\n",
    "\n",
    "fc_layer_params = (100,)\n",
    "\n",
    "batch_size = 64  # @param\n",
    "learning_rate = 1e-3  # @param\n",
    "log_interval = 200  # @param\n",
    "\n",
    "num_eval_episodes = 10  # @param\n",
    "eval_interval = 1000  # @param\n",
    "\n",
    "\n",
    "env = suite_gym.load(env_name, discount=0.99, max_episode_steps=1000)\n",
    "\n",
    "env.reset()\n",
    "\n",
    "\n",
    "\n",
    "train_py_env = suite_gym.load(env_name, discount=0.99, max_episode_steps=1000)\n",
    "eval_py_env = suite_gym.load(env_name, discount=0.99, max_episode_steps=1000)\n",
    "\n",
    "train_env = tf_py_environment.TFPyEnvironment(train_py_env)\n",
    "eval_env = tf_py_environment.TFPyEnvironment(eval_py_env)\n",
    "\n",
    "\n",
    "\n",
    "train_env.reset()\n",
    "q_net = q_network.QNetwork(\n",
    "    train_env.observation_spec(),\n",
    "    train_env.action_spec(),\n",
    "    fc_layer_params=fc_layer_params)\n",
    "\n",
    "optimizer = tf.compat.v1.train.AdamOptimizer(learning_rate=learning_rate)\n",
    " \n",
    "train_step_counter = tf.compat.v2.Variable(0)\n",
    "\n"
   ]
  },
  {
   "cell_type": "code",
   "execution_count": 3,
   "metadata": {},
   "outputs": [],
   "source": [
    "import gym"
   ]
  },
  {
   "cell_type": "code",
   "execution_count": 19,
   "metadata": {},
   "outputs": [
    {
     "data": {
      "text/plain": [
       "224"
      ]
     },
     "execution_count": 19,
     "metadata": {},
     "output_type": "execute_result"
    }
   ],
   "source": [
    "env = gym.make(\"BubbleShooter-v0\")\n",
    "state = env.reset()\n",
    "len(state['board'])"
   ]
  },
  {
   "cell_type": "code",
   "execution_count": null,
   "metadata": {},
   "outputs": [],
   "source": []
  },
  {
   "cell_type": "code",
   "execution_count": 6,
   "metadata": {},
   "outputs": [],
   "source": [
    "tf_agent = dqn_agent.DqnAgent(\n",
    "    train_env.time_step_spec(),\n",
    "    train_env.action_spec(),\n",
    "    q_network=q_net,\n",
    "    optimizer=optimizer,\n",
    "    td_errors_loss_fn=dqn_agent.element_wise_squared_loss,\n",
    "    train_step_counter=train_step_counter)"
   ]
  },
  {
   "cell_type": "code",
   "execution_count": 7,
   "metadata": {},
   "outputs": [],
   "source": [
    "tf_agent.initialize()"
   ]
  },
  {
   "cell_type": "code",
   "execution_count": 8,
   "metadata": {},
   "outputs": [],
   "source": [
    "replay_buffer = tf_uniform_replay_buffer.TFUniformReplayBuffer(\n",
    "    data_spec=tf_agent.collect_data_spec,\n",
    "    batch_size=train_env.batch_size,\n",
    "    max_length=replay_buffer_capacity)"
   ]
  },
  {
   "cell_type": "code",
   "execution_count": 9,
   "metadata": {},
   "outputs": [],
   "source": [
    "dataset = replay_buffer.as_dataset(\n",
    "    num_parallel_calls=3, sample_batch_size=batch_size,\n",
    "    num_steps=2).prefetch(3)\n"
   ]
  },
  {
   "cell_type": "code",
   "execution_count": 10,
   "metadata": {},
   "outputs": [],
   "source": [
    "iterator = iter(dataset)\n"
   ]
  },
  {
   "cell_type": "code",
   "execution_count": 11,
   "metadata": {},
   "outputs": [],
   "source": [
    "tf_agent.train = common.function(tf_agent.train)\n"
   ]
  },
  {
   "cell_type": "code",
   "execution_count": null,
   "metadata": {},
   "outputs": [],
   "source": []
  },
  {
   "cell_type": "code",
   "execution_count": null,
   "metadata": {},
   "outputs": [],
   "source": []
  },
  {
   "cell_type": "code",
   "execution_count": 21,
   "metadata": {},
   "outputs": [
    {
     "data": {
      "text/plain": [
       "(196,)"
      ]
     },
     "execution_count": 21,
     "metadata": {},
     "output_type": "execute_result"
    }
   ],
   "source": [
    "env.observation_space.shape"
   ]
  },
  {
   "cell_type": "code",
   "execution_count": 13,
   "metadata": {},
   "outputs": [
    {
     "ename": "TypeError",
     "evalue": "int() argument must be a string, a bytes-like object or a number, not 'dict'",
     "output_type": "error",
     "traceback": [
      "\u001b[0;31m---------------------------------------------------------------------------\u001b[0m",
      "\u001b[0;31mTypeError\u001b[0m                                 Traceback (most recent call last)",
      "\u001b[0;32m<ipython-input-13-af1a85f86762>\u001b[0m in \u001b[0;36m<module>\u001b[0;34m()\u001b[0m\n\u001b[0;32m----> 1\u001b[0;31m \u001b[0mstate\u001b[0m \u001b[0;34m=\u001b[0m \u001b[0menv\u001b[0m\u001b[0;34m.\u001b[0m\u001b[0mreset\u001b[0m\u001b[0;34m(\u001b[0m\u001b[0;34m)\u001b[0m\u001b[0;34m\u001b[0m\u001b[0m\n\u001b[0m\u001b[1;32m      2\u001b[0m \u001b[0mstate\u001b[0m\u001b[0;34m\u001b[0m\u001b[0m\n",
      "\u001b[0;32m~/anaconda3/envs/sim/lib/python3.5/site-packages/tf_agents/environments/py_environment.py\u001b[0m in \u001b[0;36mreset\u001b[0;34m(self)\u001b[0m\n\u001b[1;32m    139\u001b[0m           \u001b[0mcorresponding\u001b[0m \u001b[0mto\u001b[0m\u001b[0;31m \u001b[0m\u001b[0;31m`\u001b[0m\u001b[0mobservation_spec\u001b[0m\u001b[0;34m(\u001b[0m\u001b[0;34m)\u001b[0m\u001b[0;31m`\u001b[0m\u001b[0;34m.\u001b[0m\u001b[0;34m\u001b[0m\u001b[0m\n\u001b[1;32m    140\u001b[0m     \"\"\"\n\u001b[0;32m--> 141\u001b[0;31m     \u001b[0mself\u001b[0m\u001b[0;34m.\u001b[0m\u001b[0m_current_time_step\u001b[0m \u001b[0;34m=\u001b[0m \u001b[0mself\u001b[0m\u001b[0;34m.\u001b[0m\u001b[0m_reset\u001b[0m\u001b[0;34m(\u001b[0m\u001b[0;34m)\u001b[0m\u001b[0;34m\u001b[0m\u001b[0m\n\u001b[0m\u001b[1;32m    142\u001b[0m     \u001b[0;32mreturn\u001b[0m \u001b[0mself\u001b[0m\u001b[0;34m.\u001b[0m\u001b[0m_current_time_step\u001b[0m\u001b[0;34m\u001b[0m\u001b[0m\n\u001b[1;32m    143\u001b[0m \u001b[0;34m\u001b[0m\u001b[0m\n",
      "\u001b[0;32m~/anaconda3/envs/sim/lib/python3.5/site-packages/tf_agents/environments/wrappers.py\u001b[0m in \u001b[0;36m_reset\u001b[0;34m(self)\u001b[0m\n\u001b[1;32m     87\u001b[0m   \u001b[0;32mdef\u001b[0m \u001b[0m_reset\u001b[0m\u001b[0;34m(\u001b[0m\u001b[0mself\u001b[0m\u001b[0;34m)\u001b[0m\u001b[0;34m:\u001b[0m\u001b[0;34m\u001b[0m\u001b[0m\n\u001b[1;32m     88\u001b[0m     \u001b[0mself\u001b[0m\u001b[0;34m.\u001b[0m\u001b[0m_num_steps\u001b[0m \u001b[0;34m=\u001b[0m \u001b[0;36m0\u001b[0m\u001b[0;34m\u001b[0m\u001b[0m\n\u001b[0;32m---> 89\u001b[0;31m     \u001b[0;32mreturn\u001b[0m \u001b[0mself\u001b[0m\u001b[0;34m.\u001b[0m\u001b[0m_env\u001b[0m\u001b[0;34m.\u001b[0m\u001b[0mreset\u001b[0m\u001b[0;34m(\u001b[0m\u001b[0;34m)\u001b[0m\u001b[0;34m\u001b[0m\u001b[0m\n\u001b[0m\u001b[1;32m     90\u001b[0m \u001b[0;34m\u001b[0m\u001b[0m\n\u001b[1;32m     91\u001b[0m   \u001b[0;32mdef\u001b[0m \u001b[0m_step\u001b[0m\u001b[0;34m(\u001b[0m\u001b[0mself\u001b[0m\u001b[0;34m,\u001b[0m \u001b[0maction\u001b[0m\u001b[0;34m)\u001b[0m\u001b[0;34m:\u001b[0m\u001b[0;34m\u001b[0m\u001b[0m\n",
      "\u001b[0;32m~/anaconda3/envs/sim/lib/python3.5/site-packages/tf_agents/environments/py_environment.py\u001b[0m in \u001b[0;36mreset\u001b[0;34m(self)\u001b[0m\n\u001b[1;32m    139\u001b[0m           \u001b[0mcorresponding\u001b[0m \u001b[0mto\u001b[0m\u001b[0;31m \u001b[0m\u001b[0;31m`\u001b[0m\u001b[0mobservation_spec\u001b[0m\u001b[0;34m(\u001b[0m\u001b[0;34m)\u001b[0m\u001b[0;31m`\u001b[0m\u001b[0;34m.\u001b[0m\u001b[0;34m\u001b[0m\u001b[0m\n\u001b[1;32m    140\u001b[0m     \"\"\"\n\u001b[0;32m--> 141\u001b[0;31m     \u001b[0mself\u001b[0m\u001b[0;34m.\u001b[0m\u001b[0m_current_time_step\u001b[0m \u001b[0;34m=\u001b[0m \u001b[0mself\u001b[0m\u001b[0;34m.\u001b[0m\u001b[0m_reset\u001b[0m\u001b[0;34m(\u001b[0m\u001b[0;34m)\u001b[0m\u001b[0;34m\u001b[0m\u001b[0m\n\u001b[0m\u001b[1;32m    142\u001b[0m     \u001b[0;32mreturn\u001b[0m \u001b[0mself\u001b[0m\u001b[0;34m.\u001b[0m\u001b[0m_current_time_step\u001b[0m\u001b[0;34m\u001b[0m\u001b[0m\n\u001b[1;32m    143\u001b[0m \u001b[0;34m\u001b[0m\u001b[0m\n",
      "\u001b[0;32m~/anaconda3/envs/sim/lib/python3.5/site-packages/tf_agents/environments/gym_wrapper.py\u001b[0m in \u001b[0;36m_reset\u001b[0;34m(self)\u001b[0m\n\u001b[1;32m    142\u001b[0m \u001b[0;34m\u001b[0m\u001b[0m\n\u001b[1;32m    143\u001b[0m     \u001b[0;32mif\u001b[0m \u001b[0mself\u001b[0m\u001b[0;34m.\u001b[0m\u001b[0m_match_obs_space_dtype\u001b[0m\u001b[0;34m:\u001b[0m\u001b[0;34m\u001b[0m\u001b[0m\n\u001b[0;32m--> 144\u001b[0;31m       \u001b[0mobservation\u001b[0m \u001b[0;34m=\u001b[0m \u001b[0mself\u001b[0m\u001b[0;34m.\u001b[0m\u001b[0m_to_obs_space_dtype\u001b[0m\u001b[0;34m(\u001b[0m\u001b[0mobservation\u001b[0m\u001b[0;34m)\u001b[0m\u001b[0;34m\u001b[0m\u001b[0m\n\u001b[0m\u001b[1;32m    145\u001b[0m     \u001b[0;32mreturn\u001b[0m \u001b[0mts\u001b[0m\u001b[0;34m.\u001b[0m\u001b[0mrestart\u001b[0m\u001b[0;34m(\u001b[0m\u001b[0mobservation\u001b[0m\u001b[0;34m)\u001b[0m\u001b[0;34m\u001b[0m\u001b[0m\n\u001b[1;32m    146\u001b[0m \u001b[0;34m\u001b[0m\u001b[0m\n",
      "\u001b[0;32m~/anaconda3/envs/sim/lib/python3.5/site-packages/tf_agents/environments/gym_wrapper.py\u001b[0m in \u001b[0;36m_to_obs_space_dtype\u001b[0;34m(self, observation)\u001b[0m\n\u001b[1;32m    187\u001b[0m     \u001b[0mmatched_observations\u001b[0m \u001b[0;34m=\u001b[0m \u001b[0;34m[\u001b[0m\u001b[0;34m]\u001b[0m\u001b[0;34m\u001b[0m\u001b[0m\n\u001b[1;32m    188\u001b[0m     \u001b[0;32mfor\u001b[0m \u001b[0mspec\u001b[0m\u001b[0;34m,\u001b[0m \u001b[0mobs\u001b[0m \u001b[0;32min\u001b[0m \u001b[0mzip\u001b[0m\u001b[0;34m(\u001b[0m\u001b[0mself\u001b[0m\u001b[0;34m.\u001b[0m\u001b[0m_flat_obs_spec\u001b[0m\u001b[0;34m,\u001b[0m \u001b[0mflat_obs\u001b[0m\u001b[0;34m)\u001b[0m\u001b[0;34m:\u001b[0m\u001b[0;34m\u001b[0m\u001b[0m\n\u001b[0;32m--> 189\u001b[0;31m       \u001b[0mmatched_observations\u001b[0m\u001b[0;34m.\u001b[0m\u001b[0mappend\u001b[0m\u001b[0;34m(\u001b[0m\u001b[0mnp\u001b[0m\u001b[0;34m.\u001b[0m\u001b[0masarray\u001b[0m\u001b[0;34m(\u001b[0m\u001b[0mobs\u001b[0m\u001b[0;34m,\u001b[0m \u001b[0mdtype\u001b[0m\u001b[0;34m=\u001b[0m\u001b[0mspec\u001b[0m\u001b[0;34m.\u001b[0m\u001b[0mdtype\u001b[0m\u001b[0;34m)\u001b[0m\u001b[0;34m)\u001b[0m\u001b[0;34m\u001b[0m\u001b[0m\n\u001b[0m\u001b[1;32m    190\u001b[0m     return tf.nest.pack_sequence_as(self._observation_spec,\n\u001b[1;32m    191\u001b[0m                                     matched_observations)\n",
      "\u001b[0;32m~/anaconda3/envs/sim/lib/python3.5/site-packages/numpy/core/numeric.py\u001b[0m in \u001b[0;36masarray\u001b[0;34m(a, dtype, order)\u001b[0m\n\u001b[1;32m    499\u001b[0m \u001b[0;34m\u001b[0m\u001b[0m\n\u001b[1;32m    500\u001b[0m     \"\"\"\n\u001b[0;32m--> 501\u001b[0;31m     \u001b[0;32mreturn\u001b[0m \u001b[0marray\u001b[0m\u001b[0;34m(\u001b[0m\u001b[0ma\u001b[0m\u001b[0;34m,\u001b[0m \u001b[0mdtype\u001b[0m\u001b[0;34m,\u001b[0m \u001b[0mcopy\u001b[0m\u001b[0;34m=\u001b[0m\u001b[0;32mFalse\u001b[0m\u001b[0;34m,\u001b[0m \u001b[0morder\u001b[0m\u001b[0;34m=\u001b[0m\u001b[0morder\u001b[0m\u001b[0;34m)\u001b[0m\u001b[0;34m\u001b[0m\u001b[0m\n\u001b[0m\u001b[1;32m    502\u001b[0m \u001b[0;34m\u001b[0m\u001b[0m\n\u001b[1;32m    503\u001b[0m \u001b[0;34m\u001b[0m\u001b[0m\n",
      "\u001b[0;31mTypeError\u001b[0m: int() argument must be a string, a bytes-like object or a number, not 'dict'"
     ]
    }
   ],
   "source": [
    "state = env.reset()\n",
    "state"
   ]
  },
  {
   "cell_type": "code",
   "execution_count": 10,
   "metadata": {},
   "outputs": [
    {
     "data": {
      "text/plain": [
       "BoundedArraySpec(shape=(196,), dtype=dtype('int32'), name=None, minimum=[0 0 0 0 0 0 0 0 0 0 0 0 0 0 0 0 0 0 0 0 0 0 0 0 0 0 0 0 0 0 0 0 0 0 0 0 0\n",
       " 0 0 0 0 0 0 0 0 0 0 0 0 0 0 0 0 0 0 0 0 0 0 0 0 0 0 0 0 0 0 0 0 0 0 0 0 0\n",
       " 0 0 0 0 0 0 0 0 0 0 0 0 0 0 0 0 0 0 0 0 0 0 0 0 0 0 0 0 0 0 0 0 0 0 0 0 0\n",
       " 0 0 0 0 0 0 0 0 0 0 0 0 0 0 0 0 0 0 0 0 0 0 0 0 0 0 0 0 0 0 0 0 0 0 0 0 0\n",
       " 0 0 0 0 0 0 0 0 0 0 0 0 0 0 0 0 0 0 0 0 0 0 0 0 0 0 0 0 0 0 0 0 0 0 0 0 0\n",
       " 0 0 0 0 0 0 0 0 0 0 0], maximum=[6 6 6 6 6 6 6 6 6 6 6 6 6 6 6 6 6 6 6 6 6 6 6 6 6 6 6 6 6 6 6 6 6 6 6 6 6\n",
       " 6 6 6 6 6 6 6 6 6 6 6 6 6 6 6 6 6 6 6 6 6 6 6 6 6 6 6 6 6 6 6 6 6 6 6 6 6\n",
       " 6 6 6 6 6 6 6 6 6 6 6 6 6 6 6 6 6 6 6 6 6 6 6 6 6 6 6 6 6 6 6 6 6 6 6 6 6\n",
       " 6 6 6 6 6 6 6 6 6 6 6 6 6 6 6 6 6 6 6 6 6 6 6 6 6 6 6 6 6 6 6 6 6 6 6 6 6\n",
       " 6 6 6 6 6 6 6 6 6 6 6 6 6 6 6 6 6 6 6 6 6 6 6 6 6 6 6 6 6 6 6 6 6 6 6 6 6\n",
       " 6 6 6 6 6 6 6 6 6 6 6])"
      ]
     },
     "execution_count": 10,
     "metadata": {},
     "output_type": "execute_result"
    }
   ],
   "source": [
    "obs = env.observation_spec()\n",
    "obs"
   ]
  },
  {
   "cell_type": "code",
   "execution_count": 3,
   "metadata": {},
   "outputs": [],
   "source": [
    "cart_env = suite_gym.load(env_cart, discount=0.99, max_episode_steps=1000)"
   ]
  },
  {
   "cell_type": "code",
   "execution_count": 3,
   "metadata": {},
   "outputs": [
    {
     "name": "stdout",
     "output_type": "stream",
     "text": [
      "Observation Spec:\n",
      "OrderedDict([('board', BoundedArraySpec(shape=(196,), dtype=dtype('int32'), name=None, minimum=[0 0 0 0 0 0 0 0 0 0 0 0 0 0 0 0 0 0 0 0 0 0 0 0 0 0 0 0 0 0 0 0 0 0 0 0 0\n",
      " 0 0 0 0 0 0 0 0 0 0 0 0 0 0 0 0 0 0 0 0 0 0 0 0 0 0 0 0 0 0 0 0 0 0 0 0 0\n",
      " 0 0 0 0 0 0 0 0 0 0 0 0 0 0 0 0 0 0 0 0 0 0 0 0 0 0 0 0 0 0 0 0 0 0 0 0 0\n",
      " 0 0 0 0 0 0 0 0 0 0 0 0 0 0 0 0 0 0 0 0 0 0 0 0 0 0 0 0 0 0 0 0 0 0 0 0 0\n",
      " 0 0 0 0 0 0 0 0 0 0 0 0 0 0 0 0 0 0 0 0 0 0 0 0 0 0 0 0 0 0 0 0 0 0 0 0 0\n",
      " 0 0 0 0 0 0 0 0 0 0 0], maximum=[6 6 6 6 6 6 6 6 6 6 6 6 6 6 6 6 6 6 6 6 6 6 6 6 6 6 6 6 6 6 6 6 6 6 6 6 6\n",
      " 6 6 6 6 6 6 6 6 6 6 6 6 6 6 6 6 6 6 6 6 6 6 6 6 6 6 6 6 6 6 6 6 6 6 6 6 6\n",
      " 6 6 6 6 6 6 6 6 6 6 6 6 6 6 6 6 6 6 6 6 6 6 6 6 6 6 6 6 6 6 6 6 6 6 6 6 6\n",
      " 6 6 6 6 6 6 6 6 6 6 6 6 6 6 6 6 6 6 6 6 6 6 6 6 6 6 6 6 6 6 6 6 6 6 6 6 6\n",
      " 6 6 6 6 6 6 6 6 6 6 6 6 6 6 6 6 6 6 6 6 6 6 6 6 6 6 6 6 6 6 6 6 6 6 6 6 6\n",
      " 6 6 6 6 6 6 6 6 6 6 6]))])\n",
      "Action Spec:\n"
     ]
    }
   ],
   "source": [
    "env.reset()\n",
    "\n",
    "print('Observation Spec:')\n",
    "print(env.time_step_spec().observation)\n",
    "print('Action Spec:')"
   ]
  },
  {
   "cell_type": "code",
   "execution_count": 14,
   "metadata": {
    "scrolled": true
   },
   "outputs": [
    {
     "name": "stdout",
     "output_type": "stream",
     "text": [
      "Observation Spec:\n",
      "OrderedDict([('board', BoundedArraySpec(shape=(196,), dtype=dtype('int32'), name=None, minimum=[0 0 0 0 0 0 0 0 0 0 0 0 0 0 0 0 0 0 0 0 0 0 0 0 0 0 0 0 0 0 0 0 0 0 0 0 0\n",
      " 0 0 0 0 0 0 0 0 0 0 0 0 0 0 0 0 0 0 0 0 0 0 0 0 0 0 0 0 0 0 0 0 0 0 0 0 0\n",
      " 0 0 0 0 0 0 0 0 0 0 0 0 0 0 0 0 0 0 0 0 0 0 0 0 0 0 0 0 0 0 0 0 0 0 0 0 0\n",
      " 0 0 0 0 0 0 0 0 0 0 0 0 0 0 0 0 0 0 0 0 0 0 0 0 0 0 0 0 0 0 0 0 0 0 0 0 0\n",
      " 0 0 0 0 0 0 0 0 0 0 0 0 0 0 0 0 0 0 0 0 0 0 0 0 0 0 0 0 0 0 0 0 0 0 0 0 0\n",
      " 0 0 0 0 0 0 0 0 0 0 0], maximum=[6 6 6 6 6 6 6 6 6 6 6 6 6 6 6 6 6 6 6 6 6 6 6 6 6 6 6 6 6 6 6 6 6 6 6 6 6\n",
      " 6 6 6 6 6 6 6 6 6 6 6 6 6 6 6 6 6 6 6 6 6 6 6 6 6 6 6 6 6 6 6 6 6 6 6 6 6\n",
      " 6 6 6 6 6 6 6 6 6 6 6 6 6 6 6 6 6 6 6 6 6 6 6 6 6 6 6 6 6 6 6 6 6 6 6 6 6\n",
      " 6 6 6 6 6 6 6 6 6 6 6 6 6 6 6 6 6 6 6 6 6 6 6 6 6 6 6 6 6 6 6 6 6 6 6 6 6\n",
      " 6 6 6 6 6 6 6 6 6 6 6 6 6 6 6 6 6 6 6 6 6 6 6 6 6 6 6 6 6 6 6 6 6 6 6 6 6\n",
      " 6 6 6 6 6 6 6 6 6 6 6])), ('next_bubble', BoundedArraySpec(shape=(), dtype=dtype('int64'), name=None, minimum=0, maximum=6))])\n",
      "Action Spec:\n",
      "BoundedArraySpec(shape=(), dtype=dtype('int64'), name=None, minimum=0, maximum=178)\n",
      "Time step:\n",
      "TimeStep(step_type=array(0, dtype=int32), reward=array(0., dtype=float32), discount=array(1., dtype=float32), observation=OrderedDict([('board', array([0, 6, 2, 0, 2, 2, 4, 2, 1, 4, 4, 3, 2, 1, 2, 6, 5, 1, 5, 1, 4, 4,\n",
      "       6, 0, 4, 5, 4, 3, 0, 6, 4, 6, 0, 0, 1, 3, 6, 5, 5, 4, 1, 2, 5, 2,\n",
      "       3, 3, 2, 1, 0, 4, 6, 5, 6, 4, 0, 5, 6, 1, 2, 4, 4, 6, 4, 5, 1, 2,\n",
      "       4, 3, 1, 4, 5, 4, 5, 5, 0, 3, 6, 0, 4, 5, 7, 7, 7, 7, 7, 7, 7, 7,\n",
      "       7, 7, 7, 7, 7, 7, 7, 7, 7, 7, 7, 7, 7, 7, 7, 7, 7, 7, 7, 7, 7, 7,\n",
      "       7, 7, 7, 7, 7, 7, 7, 7, 7, 7, 7, 7, 7, 7, 7, 7, 7, 7, 7, 7, 7, 7,\n",
      "       7, 7, 7, 7, 7, 7, 7, 7, 7, 7, 7, 7, 7, 7, 7, 7, 7, 7, 7, 7, 7, 7,\n",
      "       7, 7, 7, 7, 7, 7, 7, 7, 7, 7, 7, 7, 7, 7, 7, 7, 7, 7, 7, 7, 7, 7,\n",
      "       7, 7, 7, 7, 7, 7, 7, 7, 7, 7, 7, 7, 7, 7, 7, 7, 7, 7, 7, 7, 7, 7,\n",
      "       7, 7, 7, 7, 7, 7, 7, 7, 7, 7, 7, 7, 7, 7, 7, 7, 7, 7, 7, 7, 7, 7,\n",
      "       7, 7, 7, 7], dtype=int32)), ('next_bubble', array(5))]))\n",
      "Next time step:\n",
      "TimeStep(step_type=array(1, dtype=int32), reward=array(40., dtype=float32), discount=array(0.99, dtype=float32), observation=OrderedDict([('board', array([0, 6, 2, 0, 2, 2, 4, 2, 1, 4, 4, 3, 2, 1, 2, 6, 5, 1, 5, 1, 4, 4,\n",
      "       6, 0, 4, 5, 4, 3, 0, 6, 4, 6, 0, 0, 1, 3, 6, 5, 5, 4, 1, 2, 5, 2,\n",
      "       3, 3, 2, 1, 0, 4, 6, 5, 6, 4, 0, 7, 6, 1, 2, 4, 4, 6, 4, 5, 1, 2,\n",
      "       4, 3, 1, 4, 5, 4, 7, 7, 0, 3, 6, 0, 4, 5, 7, 7, 7, 7, 7, 7, 7, 7,\n",
      "       7, 7, 7, 7, 7, 7, 7, 7, 7, 7, 7, 7, 7, 7, 7, 7, 7, 7, 7, 7, 7, 7,\n",
      "       7, 7, 7, 7, 7, 7, 7, 7, 7, 7, 7, 7, 7, 7, 7, 7, 7, 7, 7, 7, 7, 7,\n",
      "       7, 7, 7, 7, 7, 7, 7, 7, 7, 7, 7, 7, 7, 7, 7, 7, 7, 7, 7, 7, 7, 7,\n",
      "       7, 7, 7, 7, 7, 7, 7, 7, 7, 7, 7, 7, 7, 7, 7, 7, 7, 7, 7, 7, 7, 7,\n",
      "       7, 7, 7, 7, 7, 7, 7, 7, 7, 7, 7, 7, 7, 7, 7, 7, 7, 7, 7, 7, 7, 7,\n",
      "       7, 7, 7, 7, 7, 7, 7, 7, 7, 7, 7, 7, 7, 7, 7, 7, 7, 7, 7, 7, 7, 7,\n",
      "       7, 7, 7, 7], dtype=int32)), ('next_bubble', array(5))]))\n",
      "Observation Spec:\n",
      "OrderedDict([('board', BoundedTensorSpec(shape=(196,), dtype=tf.int32, name=None, minimum=array([0, 0, 0, 0, 0, 0, 0, 0, 0, 0, 0, 0, 0, 0, 0, 0, 0, 0, 0, 0, 0, 0,\n",
      "       0, 0, 0, 0, 0, 0, 0, 0, 0, 0, 0, 0, 0, 0, 0, 0, 0, 0, 0, 0, 0, 0,\n",
      "       0, 0, 0, 0, 0, 0, 0, 0, 0, 0, 0, 0, 0, 0, 0, 0, 0, 0, 0, 0, 0, 0,\n",
      "       0, 0, 0, 0, 0, 0, 0, 0, 0, 0, 0, 0, 0, 0, 0, 0, 0, 0, 0, 0, 0, 0,\n",
      "       0, 0, 0, 0, 0, 0, 0, 0, 0, 0, 0, 0, 0, 0, 0, 0, 0, 0, 0, 0, 0, 0,\n",
      "       0, 0, 0, 0, 0, 0, 0, 0, 0, 0, 0, 0, 0, 0, 0, 0, 0, 0, 0, 0, 0, 0,\n",
      "       0, 0, 0, 0, 0, 0, 0, 0, 0, 0, 0, 0, 0, 0, 0, 0, 0, 0, 0, 0, 0, 0,\n",
      "       0, 0, 0, 0, 0, 0, 0, 0, 0, 0, 0, 0, 0, 0, 0, 0, 0, 0, 0, 0, 0, 0,\n",
      "       0, 0, 0, 0, 0, 0, 0, 0, 0, 0, 0, 0, 0, 0, 0, 0, 0, 0, 0, 0],\n",
      "      dtype=int32), maximum=array([6, 6, 6, 6, 6, 6, 6, 6, 6, 6, 6, 6, 6, 6, 6, 6, 6, 6, 6, 6, 6, 6,\n",
      "       6, 6, 6, 6, 6, 6, 6, 6, 6, 6, 6, 6, 6, 6, 6, 6, 6, 6, 6, 6, 6, 6,\n",
      "       6, 6, 6, 6, 6, 6, 6, 6, 6, 6, 6, 6, 6, 6, 6, 6, 6, 6, 6, 6, 6, 6,\n",
      "       6, 6, 6, 6, 6, 6, 6, 6, 6, 6, 6, 6, 6, 6, 6, 6, 6, 6, 6, 6, 6, 6,\n",
      "       6, 6, 6, 6, 6, 6, 6, 6, 6, 6, 6, 6, 6, 6, 6, 6, 6, 6, 6, 6, 6, 6,\n",
      "       6, 6, 6, 6, 6, 6, 6, 6, 6, 6, 6, 6, 6, 6, 6, 6, 6, 6, 6, 6, 6, 6,\n",
      "       6, 6, 6, 6, 6, 6, 6, 6, 6, 6, 6, 6, 6, 6, 6, 6, 6, 6, 6, 6, 6, 6,\n",
      "       6, 6, 6, 6, 6, 6, 6, 6, 6, 6, 6, 6, 6, 6, 6, 6, 6, 6, 6, 6, 6, 6,\n",
      "       6, 6, 6, 6, 6, 6, 6, 6, 6, 6, 6, 6, 6, 6, 6, 6, 6, 6, 6, 6],\n",
      "      dtype=int32))), ('next_bubble', BoundedTensorSpec(shape=(), dtype=tf.int64, name=None, minimum=array(0), maximum=array(6)))])\n"
     ]
    }
   ],
   "source": [
    "\n",
    "\n",
    "env.reset()\n",
    "\n",
    "print('Observation Spec:')\n",
    "print(env.time_step_spec().observation)\n",
    "print('Action Spec:')\n",
    "print(env.action_spec())\n",
    "\n",
    "time_step = env.reset()\n",
    "print('Time step:')\n",
    "print(time_step)\n",
    "\n",
    "action = 1\n",
    "\n",
    "next_time_step = env.step(action)\n",
    "print('Next time step:')\n",
    "print(next_time_step)\n",
    "\n",
    "train_py_env = suite_gym.load(env_name, discount=0.99, max_episode_steps=1000)\n",
    "eval_py_env = suite_gym.load(env_name, discount=0.99, max_episode_steps=1000)\n",
    "\n",
    "train_env = tf_py_environment.TFPyEnvironment(train_py_env)\n",
    "eval_env = tf_py_environment.TFPyEnvironment(eval_py_env)\n",
    "\n",
    "\n",
    "\n",
    "train_env.reset()\n",
    "print('Observation Spec:')\n",
    "print(train_env.time_step_spec().observation)\n",
    "\n"
   ]
  },
  {
   "cell_type": "code",
   "execution_count": 18,
   "metadata": {},
   "outputs": [],
   "source": [
    "cart_train_py_env = suite_gym.load(env_cart, discount=0.99, max_episode_steps=1000)\n",
    "cart_eval_py_env = suite_gym.load(env_cart, discount=0.99, max_episode_steps=1000)\n",
    "\n",
    "cart_train_env = tf_py_environment.TFPyEnvironment(cart_train_py_env)\n",
    "cart_eval_env = tf_py_environment.TFPyEnvironment(cart_eval_py_env)"
   ]
  },
  {
   "cell_type": "code",
   "execution_count": 13,
   "metadata": {},
   "outputs": [],
   "source": [
    "train_py_env = suite_gym.load(env_name, discount=0.99, max_episode_steps=1000)\n",
    "eval_py_env = suite_gym.load(env_name, discount=0.99, max_episode_steps=1000)\n",
    "\n",
    "train_env = tf_py_environment.TFPyEnvironment(train_py_env)\n",
    "eval_env = tf_py_environment.TFPyEnvironment(eval_py_env)"
   ]
  },
  {
   "cell_type": "code",
   "execution_count": 21,
   "metadata": {},
   "outputs": [
    {
     "data": {
      "text/plain": [
       "tensorflow.python.framework.tensor_spec.BoundedTensorSpec"
      ]
     },
     "execution_count": 21,
     "metadata": {},
     "output_type": "execute_result"
    }
   ],
   "source": [
    "ob = train_env.observation_spec()\n",
    "type(ob['board'])"
   ]
  },
  {
   "cell_type": "code",
   "execution_count": 23,
   "metadata": {},
   "outputs": [
    {
     "data": {
      "text/plain": [
       "collections.OrderedDict"
      ]
     },
     "execution_count": 23,
     "metadata": {},
     "output_type": "execute_result"
    }
   ],
   "source": [
    "type(ob)"
   ]
  },
  {
   "cell_type": "code",
   "execution_count": 22,
   "metadata": {},
   "outputs": [
    {
     "data": {
      "text/plain": [
       "tensorflow.python.framework.tensor_spec.BoundedTensorSpec"
      ]
     },
     "execution_count": 22,
     "metadata": {},
     "output_type": "execute_result"
    }
   ],
   "source": [
    "type(cart_train_env.observation_spec())"
   ]
  },
  {
   "cell_type": "code",
   "execution_count": 19,
   "metadata": {},
   "outputs": [
    {
     "data": {
      "text/plain": [
       "BoundedTensorSpec(shape=(4,), dtype=tf.float32, name=None, minimum=array([-4.8000002e+00, -3.4028235e+38, -4.1887903e-01, -3.4028235e+38],\n",
       "      dtype=float32), maximum=array([4.8000002e+00, 3.4028235e+38, 4.1887903e-01, 3.4028235e+38],\n",
       "      dtype=float32))"
      ]
     },
     "execution_count": 19,
     "metadata": {},
     "output_type": "execute_result"
    }
   ],
   "source": [
    "cart_train_env.observation_spec()"
   ]
  },
  {
   "cell_type": "code",
   "execution_count": 6,
   "metadata": {},
   "outputs": [
    {
     "name": "stdout",
     "output_type": "stream",
     "text": [
      "n board\n"
     ]
    }
   ],
   "source": [
    "for x in ob:\n",
    "    print(\"n\", x)"
   ]
  },
  {
   "cell_type": "code",
   "execution_count": 7,
   "metadata": {},
   "outputs": [
    {
     "data": {
      "text/plain": [
       "BoundedTensorSpec(shape=(196,), dtype=tf.int32, name=None, minimum=array([0, 0, 0, 0, 0, 0, 0, 0, 0, 0, 0, 0, 0, 0, 0, 0, 0, 0, 0, 0, 0, 0,\n",
       "       0, 0, 0, 0, 0, 0, 0, 0, 0, 0, 0, 0, 0, 0, 0, 0, 0, 0, 0, 0, 0, 0,\n",
       "       0, 0, 0, 0, 0, 0, 0, 0, 0, 0, 0, 0, 0, 0, 0, 0, 0, 0, 0, 0, 0, 0,\n",
       "       0, 0, 0, 0, 0, 0, 0, 0, 0, 0, 0, 0, 0, 0, 0, 0, 0, 0, 0, 0, 0, 0,\n",
       "       0, 0, 0, 0, 0, 0, 0, 0, 0, 0, 0, 0, 0, 0, 0, 0, 0, 0, 0, 0, 0, 0,\n",
       "       0, 0, 0, 0, 0, 0, 0, 0, 0, 0, 0, 0, 0, 0, 0, 0, 0, 0, 0, 0, 0, 0,\n",
       "       0, 0, 0, 0, 0, 0, 0, 0, 0, 0, 0, 0, 0, 0, 0, 0, 0, 0, 0, 0, 0, 0,\n",
       "       0, 0, 0, 0, 0, 0, 0, 0, 0, 0, 0, 0, 0, 0, 0, 0, 0, 0, 0, 0, 0, 0,\n",
       "       0, 0, 0, 0, 0, 0, 0, 0, 0, 0, 0, 0, 0, 0, 0, 0, 0, 0, 0, 0],\n",
       "      dtype=int32), maximum=array([6, 6, 6, 6, 6, 6, 6, 6, 6, 6, 6, 6, 6, 6, 6, 6, 6, 6, 6, 6, 6, 6,\n",
       "       6, 6, 6, 6, 6, 6, 6, 6, 6, 6, 6, 6, 6, 6, 6, 6, 6, 6, 6, 6, 6, 6,\n",
       "       6, 6, 6, 6, 6, 6, 6, 6, 6, 6, 6, 6, 6, 6, 6, 6, 6, 6, 6, 6, 6, 6,\n",
       "       6, 6, 6, 6, 6, 6, 6, 6, 6, 6, 6, 6, 6, 6, 6, 6, 6, 6, 6, 6, 6, 6,\n",
       "       6, 6, 6, 6, 6, 6, 6, 6, 6, 6, 6, 6, 6, 6, 6, 6, 6, 6, 6, 6, 6, 6,\n",
       "       6, 6, 6, 6, 6, 6, 6, 6, 6, 6, 6, 6, 6, 6, 6, 6, 6, 6, 6, 6, 6, 6,\n",
       "       6, 6, 6, 6, 6, 6, 6, 6, 6, 6, 6, 6, 6, 6, 6, 6, 6, 6, 6, 6, 6, 6,\n",
       "       6, 6, 6, 6, 6, 6, 6, 6, 6, 6, 6, 6, 6, 6, 6, 6, 6, 6, 6, 6, 6, 6,\n",
       "       6, 6, 6, 6, 6, 6, 6, 6, 6, 6, 6, 6, 6, 6, 6, 6, 6, 6, 6, 6],\n",
       "      dtype=int32))"
      ]
     },
     "execution_count": 7,
     "metadata": {},
     "output_type": "execute_result"
    }
   ],
   "source": [
    "train_env.observation_spec()[\"board\"]"
   ]
  },
  {
   "cell_type": "code",
   "execution_count": 46,
   "metadata": {},
   "outputs": [
    {
     "data": {
      "text/plain": [
       "224"
      ]
     },
     "execution_count": 46,
     "metadata": {},
     "output_type": "execute_result"
    }
   ],
   "source": [
    "14*16"
   ]
  },
  {
   "cell_type": "code",
   "execution_count": 25,
   "metadata": {},
   "outputs": [
    {
     "data": {
      "text/plain": [
       "TimeStep(step_type=TensorSpec(shape=(), dtype=tf.int32, name='step_type'), reward=TensorSpec(shape=(), dtype=tf.float32, name='reward'), discount=BoundedTensorSpec(shape=(), dtype=tf.float32, name='discount', minimum=array(0., dtype=float32), maximum=array(1., dtype=float32)), observation=BoundedTensorSpec(shape=(4,), dtype=tf.float32, name=None, minimum=array([-4.8000002e+00, -3.4028235e+38, -4.1887903e-01, -3.4028235e+38],\n",
       "      dtype=float32), maximum=array([4.8000002e+00, 3.4028235e+38, 4.1887903e-01, 3.4028235e+38],\n",
       "      dtype=float32)))"
      ]
     },
     "execution_count": 25,
     "metadata": {},
     "output_type": "execute_result"
    }
   ],
   "source": [
    "cart_train_env.time_step_spec()"
   ]
  },
  {
   "cell_type": "code",
   "execution_count": 45,
   "metadata": {},
   "outputs": [
    {
     "data": {
      "text/plain": [
       "TimeStep(step_type=<tf.Tensor: id=18, shape=(1,), dtype=int32, numpy=array([0], dtype=int32)>, reward=<tf.Tensor: id=19, shape=(1,), dtype=float32, numpy=array([0.], dtype=float32)>, discount=<tf.Tensor: id=20, shape=(1,), dtype=float32, numpy=array([1.], dtype=float32)>, observation=OrderedDict([('board', <tf.Tensor: id=21, shape=(1, 224), dtype=int32, numpy=\n",
       "array([[5, 3, 3, 6, 6, 5, 4, 2, 1, 1, 3, 3, 1, 1, 0, 6, 1, 6, 1, 4, 3, 3,\n",
       "        1, 0, 0, 6, 5, 1, 1, 6, 1, 6, 5, 1, 2, 5, 6, 5, 6, 3, 0, 1, 5, 5,\n",
       "        6, 6, 1, 6, 4, 3, 0, 4, 0, 6, 2, 6, 5, 4, 4, 5, 0, 5, 4, 6, 6, 6,\n",
       "        5, 0, 2, 0, 3, 4, 3, 6, 4, 6, 1, 5, 5, 3, 7, 7, 7, 7, 7, 7, 7, 7,\n",
       "        7, 7, 7, 7, 7, 7, 7, 7, 7, 7, 7, 7, 7, 7, 7, 7, 7, 7, 7, 7, 7, 7,\n",
       "        7, 7, 7, 7, 7, 7, 7, 7, 7, 7, 7, 7, 7, 7, 7, 7, 7, 7, 7, 7, 7, 7,\n",
       "        7, 7, 7, 7, 7, 7, 7, 7, 7, 7, 7, 7, 7, 7, 7, 7, 7, 7, 7, 7, 7, 7,\n",
       "        7, 7, 7, 7, 7, 7, 7, 7, 7, 7, 7, 7, 7, 7, 7, 7, 7, 7, 7, 7, 7, 7,\n",
       "        7, 7, 7, 7, 7, 7, 7, 7, 7, 7, 7, 7, 7, 7, 7, 7, 7, 7, 7, 7, 7, 7,\n",
       "        7, 7, 7, 7, 7, 7, 7, 7, 7, 7, 7, 7, 7, 7, 7, 7, 7, 7, 7, 7, 7, 7,\n",
       "        7, 7, 7, 7]], dtype=int32)>)]))"
      ]
     },
     "execution_count": 45,
     "metadata": {},
     "output_type": "execute_result"
    }
   ],
   "source": [
    "train_env.reset()"
   ]
  },
  {
   "cell_type": "code",
   "execution_count": 24,
   "metadata": {},
   "outputs": [
    {
     "data": {
      "text/plain": [
       "TimeStep(step_type=TensorSpec(shape=(), dtype=tf.int32, name='step_type'), reward=TensorSpec(shape=(), dtype=tf.float32, name='reward'), discount=BoundedTensorSpec(shape=(), dtype=tf.float32, name='discount', minimum=array(0., dtype=float32), maximum=array(1., dtype=float32)), observation=OrderedDict([('board', BoundedTensorSpec(shape=(196,), dtype=tf.int32, name=None, minimum=array([0, 0, 0, 0, 0, 0, 0, 0, 0, 0, 0, 0, 0, 0, 0, 0, 0, 0, 0, 0, 0, 0,\n",
       "       0, 0, 0, 0, 0, 0, 0, 0, 0, 0, 0, 0, 0, 0, 0, 0, 0, 0, 0, 0, 0, 0,\n",
       "       0, 0, 0, 0, 0, 0, 0, 0, 0, 0, 0, 0, 0, 0, 0, 0, 0, 0, 0, 0, 0, 0,\n",
       "       0, 0, 0, 0, 0, 0, 0, 0, 0, 0, 0, 0, 0, 0, 0, 0, 0, 0, 0, 0, 0, 0,\n",
       "       0, 0, 0, 0, 0, 0, 0, 0, 0, 0, 0, 0, 0, 0, 0, 0, 0, 0, 0, 0, 0, 0,\n",
       "       0, 0, 0, 0, 0, 0, 0, 0, 0, 0, 0, 0, 0, 0, 0, 0, 0, 0, 0, 0, 0, 0,\n",
       "       0, 0, 0, 0, 0, 0, 0, 0, 0, 0, 0, 0, 0, 0, 0, 0, 0, 0, 0, 0, 0, 0,\n",
       "       0, 0, 0, 0, 0, 0, 0, 0, 0, 0, 0, 0, 0, 0, 0, 0, 0, 0, 0, 0, 0, 0,\n",
       "       0, 0, 0, 0, 0, 0, 0, 0, 0, 0, 0, 0, 0, 0, 0, 0, 0, 0, 0, 0],\n",
       "      dtype=int32), maximum=array([6, 6, 6, 6, 6, 6, 6, 6, 6, 6, 6, 6, 6, 6, 6, 6, 6, 6, 6, 6, 6, 6,\n",
       "       6, 6, 6, 6, 6, 6, 6, 6, 6, 6, 6, 6, 6, 6, 6, 6, 6, 6, 6, 6, 6, 6,\n",
       "       6, 6, 6, 6, 6, 6, 6, 6, 6, 6, 6, 6, 6, 6, 6, 6, 6, 6, 6, 6, 6, 6,\n",
       "       6, 6, 6, 6, 6, 6, 6, 6, 6, 6, 6, 6, 6, 6, 6, 6, 6, 6, 6, 6, 6, 6,\n",
       "       6, 6, 6, 6, 6, 6, 6, 6, 6, 6, 6, 6, 6, 6, 6, 6, 6, 6, 6, 6, 6, 6,\n",
       "       6, 6, 6, 6, 6, 6, 6, 6, 6, 6, 6, 6, 6, 6, 6, 6, 6, 6, 6, 6, 6, 6,\n",
       "       6, 6, 6, 6, 6, 6, 6, 6, 6, 6, 6, 6, 6, 6, 6, 6, 6, 6, 6, 6, 6, 6,\n",
       "       6, 6, 6, 6, 6, 6, 6, 6, 6, 6, 6, 6, 6, 6, 6, 6, 6, 6, 6, 6, 6, 6,\n",
       "       6, 6, 6, 6, 6, 6, 6, 6, 6, 6, 6, 6, 6, 6, 6, 6, 6, 6, 6, 6],\n",
       "      dtype=int32)))]))"
      ]
     },
     "execution_count": 24,
     "metadata": {},
     "output_type": "execute_result"
    }
   ],
   "source": [
    "train_env.time_step_spec()"
   ]
  },
  {
   "cell_type": "code",
   "execution_count": 11,
   "metadata": {},
   "outputs": [
    {
     "name": "stdout",
     "output_type": "stream",
     "text": [
      "y TensorSpec(shape=(), dtype=tf.int32, name='step_type')\n",
      "y TensorSpec(shape=(), dtype=tf.float32, name='reward')\n",
      "y BoundedTensorSpec(shape=(), dtype=tf.float32, name='discount', minimum=array(0., dtype=float32), maximum=array(1., dtype=float32))\n",
      "y OrderedDict([('board', BoundedTensorSpec(shape=(196,), dtype=tf.int32, name=None, minimum=array([0, 0, 0, 0, 0, 0, 0, 0, 0, 0, 0, 0, 0, 0, 0, 0, 0, 0, 0, 0, 0, 0,\n",
      "       0, 0, 0, 0, 0, 0, 0, 0, 0, 0, 0, 0, 0, 0, 0, 0, 0, 0, 0, 0, 0, 0,\n",
      "       0, 0, 0, 0, 0, 0, 0, 0, 0, 0, 0, 0, 0, 0, 0, 0, 0, 0, 0, 0, 0, 0,\n",
      "       0, 0, 0, 0, 0, 0, 0, 0, 0, 0, 0, 0, 0, 0, 0, 0, 0, 0, 0, 0, 0, 0,\n",
      "       0, 0, 0, 0, 0, 0, 0, 0, 0, 0, 0, 0, 0, 0, 0, 0, 0, 0, 0, 0, 0, 0,\n",
      "       0, 0, 0, 0, 0, 0, 0, 0, 0, 0, 0, 0, 0, 0, 0, 0, 0, 0, 0, 0, 0, 0,\n",
      "       0, 0, 0, 0, 0, 0, 0, 0, 0, 0, 0, 0, 0, 0, 0, 0, 0, 0, 0, 0, 0, 0,\n",
      "       0, 0, 0, 0, 0, 0, 0, 0, 0, 0, 0, 0, 0, 0, 0, 0, 0, 0, 0, 0, 0, 0,\n",
      "       0, 0, 0, 0, 0, 0, 0, 0, 0, 0, 0, 0, 0, 0, 0, 0, 0, 0, 0, 0],\n",
      "      dtype=int32), maximum=array([6, 6, 6, 6, 6, 6, 6, 6, 6, 6, 6, 6, 6, 6, 6, 6, 6, 6, 6, 6, 6, 6,\n",
      "       6, 6, 6, 6, 6, 6, 6, 6, 6, 6, 6, 6, 6, 6, 6, 6, 6, 6, 6, 6, 6, 6,\n",
      "       6, 6, 6, 6, 6, 6, 6, 6, 6, 6, 6, 6, 6, 6, 6, 6, 6, 6, 6, 6, 6, 6,\n",
      "       6, 6, 6, 6, 6, 6, 6, 6, 6, 6, 6, 6, 6, 6, 6, 6, 6, 6, 6, 6, 6, 6,\n",
      "       6, 6, 6, 6, 6, 6, 6, 6, 6, 6, 6, 6, 6, 6, 6, 6, 6, 6, 6, 6, 6, 6,\n",
      "       6, 6, 6, 6, 6, 6, 6, 6, 6, 6, 6, 6, 6, 6, 6, 6, 6, 6, 6, 6, 6, 6,\n",
      "       6, 6, 6, 6, 6, 6, 6, 6, 6, 6, 6, 6, 6, 6, 6, 6, 6, 6, 6, 6, 6, 6,\n",
      "       6, 6, 6, 6, 6, 6, 6, 6, 6, 6, 6, 6, 6, 6, 6, 6, 6, 6, 6, 6, 6, 6,\n",
      "       6, 6, 6, 6, 6, 6, 6, 6, 6, 6, 6, 6, 6, 6, 6, 6, 6, 6, 6, 6],\n",
      "      dtype=int32))), ('next_bubble', BoundedTensorSpec(shape=(), dtype=tf.int64, name=None, minimum=array(0), maximum=array(6)))])\n"
     ]
    }
   ],
   "source": [
    "for x in train_env.time_step_spec():\n",
    "    print(\"y\", x)"
   ]
  },
  {
   "cell_type": "code",
   "execution_count": 26,
   "metadata": {},
   "outputs": [],
   "source": [
    "random_policy = random_tf_policy.RandomTFPolicy(train_env.time_step_spec(), train_env.action_spec())\n"
   ]
  },
  {
   "cell_type": "code",
   "execution_count": 44,
   "metadata": {},
   "outputs": [
    {
     "data": {
      "text/plain": [
       "OrderedDict([('board',\n",
       "              BoundedTensorSpec(shape=(196,), dtype=tf.int32, name=None, minimum=array([0, 0, 0, 0, 0, 0, 0, 0, 0, 0, 0, 0, 0, 0, 0, 0, 0, 0, 0, 0, 0, 0,\n",
       "                     0, 0, 0, 0, 0, 0, 0, 0, 0, 0, 0, 0, 0, 0, 0, 0, 0, 0, 0, 0, 0, 0,\n",
       "                     0, 0, 0, 0, 0, 0, 0, 0, 0, 0, 0, 0, 0, 0, 0, 0, 0, 0, 0, 0, 0, 0,\n",
       "                     0, 0, 0, 0, 0, 0, 0, 0, 0, 0, 0, 0, 0, 0, 0, 0, 0, 0, 0, 0, 0, 0,\n",
       "                     0, 0, 0, 0, 0, 0, 0, 0, 0, 0, 0, 0, 0, 0, 0, 0, 0, 0, 0, 0, 0, 0,\n",
       "                     0, 0, 0, 0, 0, 0, 0, 0, 0, 0, 0, 0, 0, 0, 0, 0, 0, 0, 0, 0, 0, 0,\n",
       "                     0, 0, 0, 0, 0, 0, 0, 0, 0, 0, 0, 0, 0, 0, 0, 0, 0, 0, 0, 0, 0, 0,\n",
       "                     0, 0, 0, 0, 0, 0, 0, 0, 0, 0, 0, 0, 0, 0, 0, 0, 0, 0, 0, 0, 0, 0,\n",
       "                     0, 0, 0, 0, 0, 0, 0, 0, 0, 0, 0, 0, 0, 0, 0, 0, 0, 0, 0, 0],\n",
       "                    dtype=int32), maximum=array([6, 6, 6, 6, 6, 6, 6, 6, 6, 6, 6, 6, 6, 6, 6, 6, 6, 6, 6, 6, 6, 6,\n",
       "                     6, 6, 6, 6, 6, 6, 6, 6, 6, 6, 6, 6, 6, 6, 6, 6, 6, 6, 6, 6, 6, 6,\n",
       "                     6, 6, 6, 6, 6, 6, 6, 6, 6, 6, 6, 6, 6, 6, 6, 6, 6, 6, 6, 6, 6, 6,\n",
       "                     6, 6, 6, 6, 6, 6, 6, 6, 6, 6, 6, 6, 6, 6, 6, 6, 6, 6, 6, 6, 6, 6,\n",
       "                     6, 6, 6, 6, 6, 6, 6, 6, 6, 6, 6, 6, 6, 6, 6, 6, 6, 6, 6, 6, 6, 6,\n",
       "                     6, 6, 6, 6, 6, 6, 6, 6, 6, 6, 6, 6, 6, 6, 6, 6, 6, 6, 6, 6, 6, 6,\n",
       "                     6, 6, 6, 6, 6, 6, 6, 6, 6, 6, 6, 6, 6, 6, 6, 6, 6, 6, 6, 6, 6, 6,\n",
       "                     6, 6, 6, 6, 6, 6, 6, 6, 6, 6, 6, 6, 6, 6, 6, 6, 6, 6, 6, 6, 6, 6,\n",
       "                     6, 6, 6, 6, 6, 6, 6, 6, 6, 6, 6, 6, 6, 6, 6, 6, 6, 6, 6, 6],\n",
       "                    dtype=int32)))])"
      ]
     },
     "execution_count": 44,
     "metadata": {},
     "output_type": "execute_result"
    }
   ],
   "source": [
    "train_env.time_step_spec().observation"
   ]
  },
  {
   "cell_type": "code",
   "execution_count": 41,
   "metadata": {},
   "outputs": [
    {
     "data": {
      "text/plain": [
       "TimeStep(step_type=<tf.Tensor: id=8, shape=(1,), dtype=int32, numpy=array([0], dtype=int32)>, reward=<tf.Tensor: id=9, shape=(1,), dtype=float32, numpy=array([0.], dtype=float32)>, discount=<tf.Tensor: id=10, shape=(1,), dtype=float32, numpy=array([1.], dtype=float32)>, observation=OrderedDict([('board', <tf.Tensor: id=11, shape=(1, 224), dtype=int32, numpy=\n",
       "array([[1, 4, 5, 3, 0, 5, 3, 5, 3, 2, 1, 6, 3, 2, 2, 3, 3, 4, 4, 5, 2, 0,\n",
       "        4, 2, 4, 6, 2, 4, 6, 5, 4, 3, 1, 3, 3, 1, 5, 2, 0, 0, 3, 1, 5, 3,\n",
       "        2, 0, 5, 2, 2, 0, 6, 6, 4, 5, 2, 5, 5, 2, 5, 4, 0, 5, 1, 0, 0, 4,\n",
       "        2, 6, 5, 3, 1, 4, 5, 6, 2, 6, 0, 3, 3, 2, 7, 7, 7, 7, 7, 7, 7, 7,\n",
       "        7, 7, 7, 7, 7, 7, 7, 7, 7, 7, 7, 7, 7, 7, 7, 7, 7, 7, 7, 7, 7, 7,\n",
       "        7, 7, 7, 7, 7, 7, 7, 7, 7, 7, 7, 7, 7, 7, 7, 7, 7, 7, 7, 7, 7, 7,\n",
       "        7, 7, 7, 7, 7, 7, 7, 7, 7, 7, 7, 7, 7, 7, 7, 7, 7, 7, 7, 7, 7, 7,\n",
       "        7, 7, 7, 7, 7, 7, 7, 7, 7, 7, 7, 7, 7, 7, 7, 7, 7, 7, 7, 7, 7, 7,\n",
       "        7, 7, 7, 7, 7, 7, 7, 7, 7, 7, 7, 7, 7, 7, 7, 7, 7, 7, 7, 7, 7, 7,\n",
       "        7, 7, 7, 7, 7, 7, 7, 7, 7, 7, 7, 7, 7, 7, 7, 7, 7, 7, 7, 7, 7, 7,\n",
       "        7, 7, 7, 7]], dtype=int32)>)]))"
      ]
     },
     "execution_count": 41,
     "metadata": {},
     "output_type": "execute_result"
    }
   ],
   "source": [
    "state"
   ]
  },
  {
   "cell_type": "code",
   "execution_count": 31,
   "metadata": {},
   "outputs": [],
   "source": [
    "state = train_env.reset()"
   ]
  },
  {
   "cell_type": "code",
   "execution_count": 36,
   "metadata": {},
   "outputs": [
    {
     "data": {
      "text/plain": [
       "OrderedDict([('board',\n",
       "              BoundedTensorSpec(shape=(196,), dtype=tf.int32, name=None, minimum=array([0, 0, 0, 0, 0, 0, 0, 0, 0, 0, 0, 0, 0, 0, 0, 0, 0, 0, 0, 0, 0, 0,\n",
       "                     0, 0, 0, 0, 0, 0, 0, 0, 0, 0, 0, 0, 0, 0, 0, 0, 0, 0, 0, 0, 0, 0,\n",
       "                     0, 0, 0, 0, 0, 0, 0, 0, 0, 0, 0, 0, 0, 0, 0, 0, 0, 0, 0, 0, 0, 0,\n",
       "                     0, 0, 0, 0, 0, 0, 0, 0, 0, 0, 0, 0, 0, 0, 0, 0, 0, 0, 0, 0, 0, 0,\n",
       "                     0, 0, 0, 0, 0, 0, 0, 0, 0, 0, 0, 0, 0, 0, 0, 0, 0, 0, 0, 0, 0, 0,\n",
       "                     0, 0, 0, 0, 0, 0, 0, 0, 0, 0, 0, 0, 0, 0, 0, 0, 0, 0, 0, 0, 0, 0,\n",
       "                     0, 0, 0, 0, 0, 0, 0, 0, 0, 0, 0, 0, 0, 0, 0, 0, 0, 0, 0, 0, 0, 0,\n",
       "                     0, 0, 0, 0, 0, 0, 0, 0, 0, 0, 0, 0, 0, 0, 0, 0, 0, 0, 0, 0, 0, 0,\n",
       "                     0, 0, 0, 0, 0, 0, 0, 0, 0, 0, 0, 0, 0, 0, 0, 0, 0, 0, 0, 0],\n",
       "                    dtype=int32), maximum=array([6, 6, 6, 6, 6, 6, 6, 6, 6, 6, 6, 6, 6, 6, 6, 6, 6, 6, 6, 6, 6, 6,\n",
       "                     6, 6, 6, 6, 6, 6, 6, 6, 6, 6, 6, 6, 6, 6, 6, 6, 6, 6, 6, 6, 6, 6,\n",
       "                     6, 6, 6, 6, 6, 6, 6, 6, 6, 6, 6, 6, 6, 6, 6, 6, 6, 6, 6, 6, 6, 6,\n",
       "                     6, 6, 6, 6, 6, 6, 6, 6, 6, 6, 6, 6, 6, 6, 6, 6, 6, 6, 6, 6, 6, 6,\n",
       "                     6, 6, 6, 6, 6, 6, 6, 6, 6, 6, 6, 6, 6, 6, 6, 6, 6, 6, 6, 6, 6, 6,\n",
       "                     6, 6, 6, 6, 6, 6, 6, 6, 6, 6, 6, 6, 6, 6, 6, 6, 6, 6, 6, 6, 6, 6,\n",
       "                     6, 6, 6, 6, 6, 6, 6, 6, 6, 6, 6, 6, 6, 6, 6, 6, 6, 6, 6, 6, 6, 6,\n",
       "                     6, 6, 6, 6, 6, 6, 6, 6, 6, 6, 6, 6, 6, 6, 6, 6, 6, 6, 6, 6, 6, 6,\n",
       "                     6, 6, 6, 6, 6, 6, 6, 6, 6, 6, 6, 6, 6, 6, 6, 6, 6, 6, 6, 6],\n",
       "                    dtype=int32)))])"
      ]
     },
     "execution_count": 36,
     "metadata": {},
     "output_type": "execute_result"
    }
   ],
   "source": [
    "train_env.observation_spec()"
   ]
  },
  {
   "cell_type": "code",
   "execution_count": 34,
   "metadata": {},
   "outputs": [
    {
     "data": {
      "text/plain": [
       "TimeStep(step_type=<tf.Tensor: id=12, shape=(1,), dtype=int32, numpy=array([0], dtype=int32)>, reward=<tf.Tensor: id=13, shape=(1,), dtype=float32, numpy=array([0.], dtype=float32)>, discount=<tf.Tensor: id=14, shape=(1,), dtype=float32, numpy=array([1.], dtype=float32)>, observation=<tf.Tensor: id=15, shape=(1, 4), dtype=float32, numpy=\n",
       "array([[-0.00490616,  0.03789723, -0.02988659, -0.03203917]],\n",
       "      dtype=float32)>)"
      ]
     },
     "execution_count": 34,
     "metadata": {},
     "output_type": "execute_result"
    }
   ],
   "source": [
    "cart_train_env.reset()"
   ]
  },
  {
   "cell_type": "code",
   "execution_count": 32,
   "metadata": {},
   "outputs": [
    {
     "data": {
      "text/plain": [
       "TimeStep(step_type=<tf.Tensor: id=8, shape=(1,), dtype=int32, numpy=array([0], dtype=int32)>, reward=<tf.Tensor: id=9, shape=(1,), dtype=float32, numpy=array([0.], dtype=float32)>, discount=<tf.Tensor: id=10, shape=(1,), dtype=float32, numpy=array([1.], dtype=float32)>, observation=OrderedDict([('board', <tf.Tensor: id=11, shape=(1, 224), dtype=int32, numpy=\n",
       "array([[1, 4, 5, 3, 0, 5, 3, 5, 3, 2, 1, 6, 3, 2, 2, 3, 3, 4, 4, 5, 2, 0,\n",
       "        4, 2, 4, 6, 2, 4, 6, 5, 4, 3, 1, 3, 3, 1, 5, 2, 0, 0, 3, 1, 5, 3,\n",
       "        2, 0, 5, 2, 2, 0, 6, 6, 4, 5, 2, 5, 5, 2, 5, 4, 0, 5, 1, 0, 0, 4,\n",
       "        2, 6, 5, 3, 1, 4, 5, 6, 2, 6, 0, 3, 3, 2, 7, 7, 7, 7, 7, 7, 7, 7,\n",
       "        7, 7, 7, 7, 7, 7, 7, 7, 7, 7, 7, 7, 7, 7, 7, 7, 7, 7, 7, 7, 7, 7,\n",
       "        7, 7, 7, 7, 7, 7, 7, 7, 7, 7, 7, 7, 7, 7, 7, 7, 7, 7, 7, 7, 7, 7,\n",
       "        7, 7, 7, 7, 7, 7, 7, 7, 7, 7, 7, 7, 7, 7, 7, 7, 7, 7, 7, 7, 7, 7,\n",
       "        7, 7, 7, 7, 7, 7, 7, 7, 7, 7, 7, 7, 7, 7, 7, 7, 7, 7, 7, 7, 7, 7,\n",
       "        7, 7, 7, 7, 7, 7, 7, 7, 7, 7, 7, 7, 7, 7, 7, 7, 7, 7, 7, 7, 7, 7,\n",
       "        7, 7, 7, 7, 7, 7, 7, 7, 7, 7, 7, 7, 7, 7, 7, 7, 7, 7, 7, 7, 7, 7,\n",
       "        7, 7, 7, 7]], dtype=int32)>)]))"
      ]
     },
     "execution_count": 32,
     "metadata": {},
     "output_type": "execute_result"
    }
   ],
   "source": [
    "state"
   ]
  },
  {
   "cell_type": "code",
   "execution_count": 30,
   "metadata": {},
   "outputs": [
    {
     "name": "stderr",
     "output_type": "stream",
     "text": [
      "WARNING: Logging before flag parsing goes to stderr.\n",
      "W0716 14:16:13.832557 140373639632640 module_wrapper.py:126] From /home/leiningc/anaconda3/envs/sim/lib/python3.5/site-packages/tensorflow_core/python/util/module_wrapper.py:153: The name tf.estimator.inputs is deprecated. Please use tf.compat.v1.estimator.inputs instead.\n",
      "\n"
     ]
    },
    {
     "ename": "ValueError",
     "evalue": "Received a mix of batched and unbatched Tensors, or Tensors are not compatible with Specs.  num_outer_dims: 1.\nSaw tensor_shapes:\n   TimeStep(step_type=TensorShape([1]), reward=TensorShape([1]), discount=TensorShape([1]), observation=OrderedDict([('board', TensorShape([1, 224]))]))\nAnd spec_shapes:\n   TimeStep(step_type=TensorShape([]), reward=TensorShape([]), discount=TensorShape([]), observation=OrderedDict([('board', TensorShape([196]))]))",
     "output_type": "error",
     "traceback": [
      "\u001b[0;31m---------------------------------------------------------------------------\u001b[0m",
      "\u001b[0;31mValueError\u001b[0m                                Traceback (most recent call last)",
      "\u001b[0;32m<ipython-input-30-62368a0d2b62>\u001b[0m in \u001b[0;36m<module>\u001b[0;34m()\u001b[0m\n\u001b[0;32m----> 1\u001b[0;31m \u001b[0mrandom_policy\u001b[0m\u001b[0;34m.\u001b[0m\u001b[0maction\u001b[0m\u001b[0;34m(\u001b[0m\u001b[0mstate\u001b[0m\u001b[0;34m)\u001b[0m\u001b[0;34m\u001b[0m\u001b[0m\n\u001b[0m",
      "\u001b[0;32m~/anaconda3/envs/sim/lib/python3.5/site-packages/tf_agents/policies/tf_policy.py\u001b[0m in \u001b[0;36maction\u001b[0;34m(self, time_step, policy_state, seed)\u001b[0m\n\u001b[1;32m    241\u001b[0m     \u001b[0;32mif\u001b[0m \u001b[0mself\u001b[0m\u001b[0;34m.\u001b[0m\u001b[0m_automatic_state_reset\u001b[0m\u001b[0;34m:\u001b[0m\u001b[0;34m\u001b[0m\u001b[0m\n\u001b[1;32m    242\u001b[0m       \u001b[0mpolicy_state\u001b[0m \u001b[0;34m=\u001b[0m \u001b[0mself\u001b[0m\u001b[0;34m.\u001b[0m\u001b[0m_maybe_reset_state\u001b[0m\u001b[0;34m(\u001b[0m\u001b[0mtime_step\u001b[0m\u001b[0;34m,\u001b[0m \u001b[0mpolicy_state\u001b[0m\u001b[0;34m)\u001b[0m\u001b[0;34m\u001b[0m\u001b[0m\n\u001b[0;32m--> 243\u001b[0;31m     \u001b[0mstep\u001b[0m \u001b[0;34m=\u001b[0m \u001b[0maction_fn\u001b[0m\u001b[0;34m(\u001b[0m\u001b[0mtime_step\u001b[0m\u001b[0;34m=\u001b[0m\u001b[0mtime_step\u001b[0m\u001b[0;34m,\u001b[0m \u001b[0mpolicy_state\u001b[0m\u001b[0;34m=\u001b[0m\u001b[0mpolicy_state\u001b[0m\u001b[0;34m,\u001b[0m \u001b[0mseed\u001b[0m\u001b[0;34m=\u001b[0m\u001b[0mseed\u001b[0m\u001b[0;34m)\u001b[0m\u001b[0;34m\u001b[0m\u001b[0m\n\u001b[0m\u001b[1;32m    244\u001b[0m \u001b[0;34m\u001b[0m\u001b[0m\n\u001b[1;32m    245\u001b[0m     \u001b[0;32mdef\u001b[0m \u001b[0mclip_action\u001b[0m\u001b[0;34m(\u001b[0m\u001b[0maction\u001b[0m\u001b[0;34m,\u001b[0m \u001b[0maction_spec\u001b[0m\u001b[0;34m)\u001b[0m\u001b[0;34m:\u001b[0m\u001b[0;34m\u001b[0m\u001b[0m\n",
      "\u001b[0;32m~/anaconda3/envs/sim/lib/python3.5/site-packages/tf_agents/policies/random_tf_policy.py\u001b[0m in \u001b[0;36m_action\u001b[0;34m(self, time_step, policy_state, seed)\u001b[0m\n\u001b[1;32m     42\u001b[0m \u001b[0;34m\u001b[0m\u001b[0m\n\u001b[1;32m     43\u001b[0m   \u001b[0;32mdef\u001b[0m \u001b[0m_action\u001b[0m\u001b[0;34m(\u001b[0m\u001b[0mself\u001b[0m\u001b[0;34m,\u001b[0m \u001b[0mtime_step\u001b[0m\u001b[0;34m,\u001b[0m \u001b[0mpolicy_state\u001b[0m\u001b[0;34m,\u001b[0m \u001b[0mseed\u001b[0m\u001b[0;34m)\u001b[0m\u001b[0;34m:\u001b[0m\u001b[0;34m\u001b[0m\u001b[0m\n\u001b[0;32m---> 44\u001b[0;31m     \u001b[0mouter_dims\u001b[0m \u001b[0;34m=\u001b[0m \u001b[0mnest_utils\u001b[0m\u001b[0;34m.\u001b[0m\u001b[0mget_outer_shape\u001b[0m\u001b[0;34m(\u001b[0m\u001b[0mtime_step\u001b[0m\u001b[0;34m,\u001b[0m \u001b[0mself\u001b[0m\u001b[0;34m.\u001b[0m\u001b[0m_time_step_spec\u001b[0m\u001b[0;34m)\u001b[0m\u001b[0;34m\u001b[0m\u001b[0m\n\u001b[0m\u001b[1;32m     45\u001b[0m \u001b[0;34m\u001b[0m\u001b[0m\n\u001b[1;32m     46\u001b[0m     action_ = tensor_spec.sample_spec_nest(\n",
      "\u001b[0;32m~/anaconda3/envs/sim/lib/python3.5/site-packages/tf_agents/utils/nest_utils.py\u001b[0m in \u001b[0;36mget_outer_shape\u001b[0;34m(nested_tensor, spec)\u001b[0m\n\u001b[1;32m    339\u001b[0m   \u001b[0mnum_outer_dims\u001b[0m \u001b[0;34m=\u001b[0m \u001b[0;34m(\u001b[0m\u001b[0mlen\u001b[0m\u001b[0;34m(\u001b[0m\u001b[0mfirst_tensor\u001b[0m\u001b[0;34m.\u001b[0m\u001b[0mshape\u001b[0m\u001b[0;34m)\u001b[0m \u001b[0;34m-\u001b[0m \u001b[0mlen\u001b[0m\u001b[0;34m(\u001b[0m\u001b[0mfirst_spec\u001b[0m\u001b[0;34m.\u001b[0m\u001b[0mshape\u001b[0m\u001b[0;34m)\u001b[0m\u001b[0;34m)\u001b[0m\u001b[0;34m\u001b[0m\u001b[0m\n\u001b[1;32m    340\u001b[0m   if not is_batched_nested_tensors(\n\u001b[0;32m--> 341\u001b[0;31m       nested_tensor, spec, num_outer_dims=num_outer_dims):\n\u001b[0m\u001b[1;32m    342\u001b[0m     \u001b[0;32mreturn\u001b[0m \u001b[0;34m[\u001b[0m\u001b[0;34m]\u001b[0m\u001b[0;34m\u001b[0m\u001b[0m\n\u001b[1;32m    343\u001b[0m \u001b[0;34m\u001b[0m\u001b[0m\n",
      "\u001b[0;32m~/anaconda3/envs/sim/lib/python3.5/site-packages/tf_agents/utils/nest_utils.py\u001b[0m in \u001b[0;36mis_batched_nested_tensors\u001b[0;34m(tensors, specs, num_outer_dims)\u001b[0m\n\u001b[1;32m    129\u001b[0m       \u001b[0;34m'And spec_shapes:\\n   %s'\u001b[0m \u001b[0;34m%\u001b[0m\u001b[0;34m\u001b[0m\u001b[0m\n\u001b[1;32m    130\u001b[0m       (num_outer_dims, tf.nest.pack_sequence_as(tensors, tensor_shapes),\n\u001b[0;32m--> 131\u001b[0;31m        tf.nest.pack_sequence_as(specs, spec_shapes)))\n\u001b[0m\u001b[1;32m    132\u001b[0m \u001b[0;34m\u001b[0m\u001b[0m\n\u001b[1;32m    133\u001b[0m \u001b[0;34m\u001b[0m\u001b[0m\n",
      "\u001b[0;31mValueError\u001b[0m: Received a mix of batched and unbatched Tensors, or Tensors are not compatible with Specs.  num_outer_dims: 1.\nSaw tensor_shapes:\n   TimeStep(step_type=TensorShape([1]), reward=TensorShape([1]), discount=TensorShape([1]), observation=OrderedDict([('board', TensorShape([1, 224]))]))\nAnd spec_shapes:\n   TimeStep(step_type=TensorShape([]), reward=TensorShape([]), discount=TensorShape([]), observation=OrderedDict([('board', TensorShape([196]))]))"
     ]
    }
   ],
   "source": [
    "random_policy.action(state)"
   ]
  },
  {
   "cell_type": "code",
   "execution_count": 48,
   "metadata": {},
   "outputs": [],
   "source": [
    "import gym\n",
    "import gym_bubbleshooter"
   ]
  },
  {
   "cell_type": "code",
   "execution_count": 50,
   "metadata": {},
   "outputs": [],
   "source": [
    "env = gym.make(\"BubbleShooter-v0\")\n",
    "state = env.reset()"
   ]
  },
  {
   "cell_type": "code",
   "execution_count": 55,
   "metadata": {},
   "outputs": [
    {
     "data": {
      "text/plain": [
       "224"
      ]
     },
     "execution_count": 55,
     "metadata": {},
     "output_type": "execute_result"
    }
   ],
   "source": [
    "len(state['board'])\n"
   ]
  },
  {
   "cell_type": "code",
   "execution_count": 64,
   "metadata": {},
   "outputs": [
    {
     "data": {
      "text/plain": [
       "Dict(board:MultiDiscrete([7 7 7 7 7 7 7 7 7 7 7 7 7 7 7 7 7 7 7 7 7 7 7 7 7 7 7 7 7 7 7 7 7 7 7 7 7\n",
       " 7 7 7 7 7 7 7 7 7 7 7 7 7 7 7 7 7 7 7 7 7 7 7 7 7 7 7 7 7 7 7 7 7 7 7 7 7\n",
       " 7 7 7 7 7 7 7 7 7 7 7 7 7 7 7 7 7 7 7 7 7 7 7 7 7 7 7 7 7 7 7 7 7 7 7 7 7\n",
       " 7 7 7 7 7 7 7 7 7 7 7 7 7 7 7 7 7 7 7 7 7 7 7 7 7 7 7 7 7 7 7 7 7 7 7 7 7\n",
       " 7 7 7 7 7 7 7 7 7 7 7 7 7 7 7 7 7 7 7 7 7 7 7 7 7 7 7 7 7 7 7 7 7 7 7 7 7\n",
       " 7 7 7 7 7 7 7 7 7 7 7]))"
      ]
     },
     "execution_count": 64,
     "metadata": {},
     "output_type": "execute_result"
    }
   ],
   "source": [
    "obs = env.observation_space\n",
    "obs"
   ]
  },
  {
   "cell_type": "code",
   "execution_count": 68,
   "metadata": {},
   "outputs": [
    {
     "data": {
      "text/plain": [
       "gym.spaces.dict_space.Dict"
      ]
     },
     "execution_count": 68,
     "metadata": {},
     "output_type": "execute_result"
    }
   ],
   "source": [
    "type(obs)"
   ]
  },
  {
   "cell_type": "code",
   "execution_count": 74,
   "metadata": {},
   "outputs": [
    {
     "data": {
      "text/plain": [
       "Box(4,)"
      ]
     },
     "execution_count": 74,
     "metadata": {},
     "output_type": "execute_result"
    }
   ],
   "source": [
    "env = gym.make(\"CartPole-v0\")\n",
    "env.observation_space"
   ]
  },
  {
   "cell_type": "code",
   "execution_count": 75,
   "metadata": {},
   "outputs": [],
   "source": [
    "from gym import spaces, error"
   ]
  },
  {
   "cell_type": "code",
   "execution_count": 78,
   "metadata": {},
   "outputs": [],
   "source": [
    "ob = spaces.MultiDiscrete([x for x in range(1,100)])"
   ]
  },
  {
   "cell_type": "code",
   "execution_count": 79,
   "metadata": {},
   "outputs": [
    {
     "data": {
      "text/plain": [
       "(99,)"
      ]
     },
     "execution_count": 79,
     "metadata": {},
     "output_type": "execute_result"
    }
   ],
   "source": [
    "ob.shape"
   ]
  },
  {
   "cell_type": "code",
   "execution_count": null,
   "metadata": {},
   "outputs": [],
   "source": []
  },
  {
   "cell_type": "code",
   "execution_count": null,
   "metadata": {},
   "outputs": [],
   "source": []
  },
  {
   "cell_type": "code",
   "execution_count": null,
   "metadata": {},
   "outputs": [],
   "source": []
  },
  {
   "cell_type": "code",
   "execution_count": null,
   "metadata": {},
   "outputs": [],
   "source": []
  },
  {
   "cell_type": "code",
   "execution_count": null,
   "metadata": {},
   "outputs": [],
   "source": []
  }
 ],
 "metadata": {
  "kernelspec": {
   "display_name": "Python 3",
   "language": "python",
   "name": "python3"
  },
  "language_info": {
   "codemirror_mode": {
    "name": "ipython",
    "version": 3
   },
   "file_extension": ".py",
   "mimetype": "text/x-python",
   "name": "python",
   "nbconvert_exporter": "python",
   "pygments_lexer": "ipython3",
   "version": "3.5.5"
  }
 },
 "nbformat": 4,
 "nbformat_minor": 2
}
